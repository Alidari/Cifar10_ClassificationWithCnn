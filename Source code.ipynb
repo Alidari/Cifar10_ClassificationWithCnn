{
 "cells": [
  {
   "cell_type": "code",
   "execution_count": 36,
   "id": "d3e072ec-476c-4c74-a362-8b803332db44",
   "metadata": {},
   "outputs": [],
   "source": [
    "import tensorflow as tf\n",
    "from tensorflow.keras import datasets, layers, models\n",
    "from tensorflow.keras.layers import Dense, Conv2D, MaxPool2D, Flatten, Dropout, BatchNormalization\n",
    "from tensorflow.keras.models import Sequential\n",
    "from tensorflow.keras.callbacks import EarlyStopping\n",
    "from tensorflow.keras.utils import to_categorical\n",
    "from tensorflow.keras.preprocessing.image import ImageDataGenerator\n",
    "\n",
    "from sklearn.metrics import classification_report, confusion_matrix\n",
    "from sklearn.metrics import ConfusionMatrixDisplay\n",
    "\n",
    "import matplotlib.pyplot as plt\n",
    "import numpy as np\n",
    "import warnings"
   ]
  },
  {
   "cell_type": "code",
   "execution_count": 37,
   "id": "1986853d-68fc-408e-90e0-536a91e8826e",
   "metadata": {},
   "outputs": [],
   "source": [
    "warnings.filterwarnings('ignore')"
   ]
  },
  {
   "cell_type": "markdown",
   "id": "8791aa06-2a3f-4a7a-a67f-934ae17380f2",
   "metadata": {},
   "source": [
    "**CIFAR-10 VERİ SETİNİ TANIMA**\n",
    "\n",
    "- Datasets kütüphanesinden cifar10 veri setini yüklüyoruz.\n",
    "- Cifar10 veri setinde 10 farklı nesneye ait 60.000 resim bulunmakta\n",
    "- Veri seti, train ve test olarak 2 gruba ayrılmakta.\n",
    "- Test ve train setleri eğitim ve test için kullanılmakta ve kendi içinde de giriş değeri ve çıkış değeri olarak ikiye ayrılmakta\n",
    "- Veri setimizde toplamda 60.000 adet veri bulunmakta ve bunların 50.000'i eğitim, 10.000'i test için kullanılıyor.\n",
    "- Ve verilerimiz 32x32 boyutunda rgb olarak 3 renk kanalına sahiptir."
   ]
  },
  {
   "cell_type": "code",
   "execution_count": 4,
   "id": "f274bace-a54a-405c-893a-f179c193f44c",
   "metadata": {},
   "outputs": [
    {
     "name": "stdout",
     "output_type": "stream",
     "text": [
      "Eğitim veri seti sayısı: 50000\n",
      "Test veri seti sayısı: 10000\n"
     ]
    }
   ],
   "source": [
    "(X_train, y_train) , (X_test, y_test) = datasets.cifar10.load_data()\n",
    "print(\"Eğitim veri seti sayısı: \" + str(X_train.shape[0]))\n",
    "print(\"Test veri seti sayısı: \" + str(X_test.shape[0]))"
   ]
  },
  {
   "cell_type": "code",
   "execution_count": 5,
   "id": "d715f60b-24aa-4f28-b677-bc64ad93312a",
   "metadata": {},
   "outputs": [
    {
     "data": {
      "text/plain": [
       "(50000, 32, 32, 3)"
      ]
     },
     "execution_count": 5,
     "metadata": {},
     "output_type": "execute_result"
    }
   ],
   "source": [
    "X_train.shape #32x32 pixel ve 3 renk kanalına sahip eğitim seti"
   ]
  },
  {
   "cell_type": "code",
   "execution_count": 6,
   "id": "24338631-8176-4126-8e70-c20691cd55d9",
   "metadata": {},
   "outputs": [
    {
     "data": {
      "text/plain": [
       "(10000, 32, 32, 3)"
      ]
     },
     "execution_count": 6,
     "metadata": {},
     "output_type": "execute_result"
    }
   ],
   "source": [
    "X_test.shape #32x32 pixel ve 3 renk kanalına sahip test seti"
   ]
  },
  {
   "cell_type": "markdown",
   "id": "38041224-ed4b-420f-a6fa-655bc67fd925",
   "metadata": {},
   "source": [
    "*Örnek bir veri*"
   ]
  },
  {
   "cell_type": "code",
   "execution_count": 7,
   "id": "be8775e2-e32a-4cec-9f8c-09eb92967299",
   "metadata": {},
   "outputs": [
    {
     "data": {
      "text/plain": [
       "array([[[ 59,  62,  63],\n",
       "        [ 43,  46,  45],\n",
       "        [ 50,  48,  43],\n",
       "        ...,\n",
       "        [158, 132, 108],\n",
       "        [152, 125, 102],\n",
       "        [148, 124, 103]],\n",
       "\n",
       "       [[ 16,  20,  20],\n",
       "        [  0,   0,   0],\n",
       "        [ 18,   8,   0],\n",
       "        ...,\n",
       "        [123,  88,  55],\n",
       "        [119,  83,  50],\n",
       "        [122,  87,  57]],\n",
       "\n",
       "       [[ 25,  24,  21],\n",
       "        [ 16,   7,   0],\n",
       "        [ 49,  27,   8],\n",
       "        ...,\n",
       "        [118,  84,  50],\n",
       "        [120,  84,  50],\n",
       "        [109,  73,  42]],\n",
       "\n",
       "       ...,\n",
       "\n",
       "       [[208, 170,  96],\n",
       "        [201, 153,  34],\n",
       "        [198, 161,  26],\n",
       "        ...,\n",
       "        [160, 133,  70],\n",
       "        [ 56,  31,   7],\n",
       "        [ 53,  34,  20]],\n",
       "\n",
       "       [[180, 139,  96],\n",
       "        [173, 123,  42],\n",
       "        [186, 144,  30],\n",
       "        ...,\n",
       "        [184, 148,  94],\n",
       "        [ 97,  62,  34],\n",
       "        [ 83,  53,  34]],\n",
       "\n",
       "       [[177, 144, 116],\n",
       "        [168, 129,  94],\n",
       "        [179, 142,  87],\n",
       "        ...,\n",
       "        [216, 184, 140],\n",
       "        [151, 118,  84],\n",
       "        [123,  92,  72]]], dtype=uint8)"
      ]
     },
     "execution_count": 7,
     "metadata": {},
     "output_type": "execute_result"
    }
   ],
   "source": [
    "X_train[0] #0-255 değerlere sahip 32x32 boyutunda bir dizi"
   ]
  },
  {
   "cell_type": "code",
   "execution_count": 8,
   "id": "08649459-0d86-4d32-bf9f-fa95b0e427a4",
   "metadata": {},
   "outputs": [],
   "source": [
    "classes = [\"uçak\",\"otomobil\",\"kuş\",\"kedi\",\"geyik\",\"köpek\",\"kurbağa\",\"at\",\"gemi\",\"kamyon\"] #Sınıf etiketlerini tanımlama"
   ]
  },
  {
   "cell_type": "code",
   "execution_count": 9,
   "id": "62d9c02c-dfec-4d75-ba71-2f091224e74c",
   "metadata": {},
   "outputs": [
    {
     "data": {
      "text/plain": [
       "'kamyon'"
      ]
     },
     "execution_count": 9,
     "metadata": {},
     "output_type": "execute_result"
    }
   ],
   "source": [
    "classes[9] #örnek kullanım"
   ]
  },
  {
   "cell_type": "code",
   "execution_count": 10,
   "id": "f8f350b3-390a-46fe-9605-25eafe33114d",
   "metadata": {},
   "outputs": [
    {
     "data": {
      "text/plain": [
       "array([[6],\n",
       "       [9],\n",
       "       [9],\n",
       "       [4],\n",
       "       [1]], dtype=uint8)"
      ]
     },
     "execution_count": 10,
     "metadata": {},
     "output_type": "execute_result"
    }
   ],
   "source": [
    "y_train[:5] #eğirim veri setinin hedef indisleri'nin ilk 5 değeri. "
   ]
  },
  {
   "cell_type": "code",
   "execution_count": 46,
   "id": "20d3d4ce-5945-4271-b3ee-3575169ab8b6",
   "metadata": {},
   "outputs": [
    {
     "data": {
      "image/png": "[encoded data removed]",
      "text/plain": [
       "<Figure size 1500x200 with 1 Axes>"
      ]
     },
     "metadata": {},
     "output_type": "display_data"
    },
    {
     "data": {
      "image/png": "[encoded data removed]",
      "text/plain": [
       "<Figure size 1500x200 with 1 Axes>"
      ]
     },
     "metadata": {},
     "output_type": "display_data"
    },
    {
     "data": {
      "image/png": "[encoded data removed]",
      "text/plain": [
       "<Figure size 1500x200 with 1 Axes>"
      ]
     },
     "metadata": {},
     "output_type": "display_data"
    },
    {
     "data": {
      "image/png": "[encoded data removed]",
      "text/plain": [
       "<Figure size 1500x200 with 1 Axes>"
      ]
     },
     "metadata": {},
     "output_type": "display_data"
    }
   ],
   "source": [
    "def plot_sample(X,y,index):\n",
    "    y_temp = y.reshape(-1) #hedef verileri uygun dizi formuna dönüştürme (lineer)\n",
    "    plt.figure(figsize= (15,2)) #resimin görüntüsünü ayarlama\n",
    "    plt.imshow(X[index]) #matrisin pyplotlib aracılığıyla çizilmiş hali\n",
    "    plt.xlabel(classes[y_temp[index]]) #çizim aracının X eksen etiketine eğitim veri setinin hedef değerini alıp yukarıda oluşturduğumuz calsses sınıfından indexine göre yazılı değerini atıyoruz  \n",
    "\n",
    "plot_sample(X_train,y_train,0) # eitim setindeki 0 indisine ait değer\n",
    "plot_sample(X_train,y_train,1) # eitim setindeki 1 indisine ait değer \n",
    "plot_sample(X_train,y_train,10) # eitim setindeki 10 indisine ait değer\n",
    "plot_sample(X_train,y_train,20) # eitim setindeki 20 indisine ait değer"
   ]
  },
  {
   "cell_type": "markdown",
   "id": "dd16fc4f-1152-479c-a468-901e8144eaac",
   "metadata": {},
   "source": [
    "**Veri setindeki değerleri normalize etme**"
   ]
  },
  {
   "cell_type": "code",
   "execution_count": 47,
   "id": "a1b695e0-c144-411d-85d7-8a58ad34838d",
   "metadata": {},
   "outputs": [
    {
     "data": {
      "text/plain": [
       "array([[[0.00090734, 0.00095348, 0.00096886],\n",
       "        [0.00066128, 0.00070742, 0.00069204],\n",
       "        [0.00076894, 0.00073818, 0.00066128],\n",
       "        ...,\n",
       "        [0.00242983, 0.00202999, 0.0016609 ],\n",
       "        [0.00233756, 0.00192234, 0.00156863],\n",
       "        [0.00227605, 0.00190696, 0.00158401]],\n",
       "\n",
       "       [[0.00024606, 0.00030757, 0.00030757],\n",
       "        [0.        , 0.        , 0.        ],\n",
       "        [0.00027682, 0.00012303, 0.        ],\n",
       "        ...,\n",
       "        [0.00189158, 0.00135333, 0.00084583],\n",
       "        [0.00183007, 0.00127643, 0.00076894],\n",
       "        [0.0018762 , 0.00133795, 0.00087659]],\n",
       "\n",
       "       [[0.00038447, 0.00036909, 0.00032295],\n",
       "        [0.00024606, 0.00010765, 0.        ],\n",
       "        [0.00075356, 0.00041522, 0.00012303],\n",
       "        ...,\n",
       "        [0.00181469, 0.00129181, 0.00076894],\n",
       "        [0.00184544, 0.00129181, 0.00076894],\n",
       "        [0.00167628, 0.00112265, 0.00064591]],\n",
       "\n",
       "       ...,\n",
       "\n",
       "       [[0.00319877, 0.00261438, 0.00147636],\n",
       "        [0.00309112, 0.00235294, 0.00052288],\n",
       "        [0.00304498, 0.00247597, 0.00039985],\n",
       "        ...,\n",
       "        [0.00246059, 0.00204537, 0.00107651],\n",
       "        [0.00086121, 0.00047674, 0.00010765],\n",
       "        [0.00081507, 0.00052288, 0.00030757]],\n",
       "\n",
       "       [[0.00276817, 0.00213764, 0.00147636],\n",
       "        [0.00266052, 0.00189158, 0.00064591],\n",
       "        [0.00286044, 0.00221453, 0.00046136],\n",
       "        ...,\n",
       "        [0.00282968, 0.00227605, 0.0014456 ],\n",
       "        [0.00149173, 0.00095348, 0.00052288],\n",
       "        [0.00127643, 0.00081507, 0.00052288]],\n",
       "\n",
       "       [[0.00272203, 0.00221453, 0.00178393],\n",
       "        [0.00258362, 0.00198385, 0.0014456 ],\n",
       "        [0.00275279, 0.00218378, 0.00133795],\n",
       "        ...,\n",
       "        [0.0033218 , 0.00282968, 0.00215302],\n",
       "        [0.00232218, 0.00181469, 0.00129181],\n",
       "        [0.00189158, 0.00141484, 0.00110727]]])"
      ]
     },
     "execution_count": 47,
     "metadata": {},
     "output_type": "execute_result"
    }
   ],
   "source": [
    "X_train[0]/255 #normalde değerlerimiz 32x32x3 boyutlu dizi içerisinde 0-255 arasındaydı, bu değerleri 0-1 arasına getirmek için normalizasyon işlemi uyguladık"
   ]
  },
  {
   "cell_type": "code",
   "execution_count": 13,
   "id": "2a12af6c-4f0c-43db-b95e-f1e4b49a9b83",
   "metadata": {},
   "outputs": [],
   "source": [
    "X_train = X_train / 255\n",
    "X_test = X_test / 255\n",
    "\n",
    "y_cat_train = to_categorical(y_train, 10)\n",
    "y_cat_test = to_categorical(y_test, 10)"
   ]
  },
  {
   "cell_type": "code",
   "execution_count": 14,
   "id": "7a1c3e42-2888-4471-bbfb-38baca49021f",
   "metadata": {},
   "outputs": [
    {
     "data": {
      "text/plain": [
       "array([[0., 0., 0., ..., 0., 0., 0.],\n",
       "       [0., 0., 0., ..., 0., 1., 0.],\n",
       "       [0., 0., 0., ..., 0., 1., 0.],\n",
       "       ...,\n",
       "       [0., 0., 0., ..., 0., 0., 0.],\n",
       "       [0., 1., 0., ..., 0., 0., 0.],\n",
       "       [0., 0., 0., ..., 1., 0., 0.]])"
      ]
     },
     "execution_count": 14,
     "metadata": {},
     "output_type": "execute_result"
    }
   ],
   "source": [
    "y_cat_test"
   ]
  },
  {
   "cell_type": "code",
   "execution_count": 15,
   "id": "5bef7968-46ce-422c-8c3f-29b6c25986ed",
   "metadata": {},
   "outputs": [
    {
     "data": {
      "text/plain": [
       "array([[6],\n",
       "       [9],\n",
       "       [9],\n",
       "       ...,\n",
       "       [9],\n",
       "       [1],\n",
       "       [1]], dtype=uint8)"
      ]
     },
     "execution_count": 15,
     "metadata": {},
     "output_type": "execute_result"
    }
   ],
   "source": [
    "y_train"
   ]
  },
  {
   "cell_type": "markdown",
   "id": "27041f47-a1b8-45b6-9ec6-5d4bc31f947e",
   "metadata": {},
   "source": [
    "***MODEL OLUŞTURMA***"
   ]
  },
  {
   "cell_type": "code",
   "execution_count": 16,
   "id": "05ca49da-b381-4bb8-aa1c-a059db5f309d",
   "metadata": {},
   "outputs": [],
   "source": [
    "cnn = models.Sequential([\n",
    "\n",
    "    \n",
    "    #cnn adımları\n",
    "    \n",
    "    layers.Conv2D(filters=16,kernel_size = (3,3), activation = 'relu',input_shape = (32,32,3)),\n",
    "    layers.MaxPooling2D((2,2)),\n",
    "\n",
    "    layers.Conv2D(filters=32,kernel_size = (3,3), activation = 'relu'),\n",
    "    layers.MaxPooling2D((2,2)),\n",
    "\n",
    "    layers.Conv2D(filters=64,kernel_size = (3,3), activation = 'relu'),\n",
    "    layers.MaxPooling2D((2,2)),\n",
    "\n",
    "    #dense\n",
    "    layers.Flatten(),\n",
    "    layers.Dense(1000, activation='relu'),\n",
    "    layers.Dense(10, activation='softmax')\n",
    "])"
   ]
  },
  {
   "cell_type": "code",
   "execution_count": 14,
   "id": "8357d195-fe3a-470d-a16b-7f0d2f9a61f6",
   "metadata": {},
   "outputs": [],
   "source": [
    "cnn.compile(optimizer='adam',\n",
    "           loss='sparse_categorical_crossentropy',\n",
    "           metrics=['accuracy'])"
   ]
  },
  {
   "cell_type": "code",
   "execution_count": 15,
   "id": "ebff115f-af93-4739-825f-0c8104db2cf1",
   "metadata": {},
   "outputs": [
    {
     "name": "stdout",
     "output_type": "stream",
     "text": [
      "Epoch 1/20\n",
      "\u001b[1m1563/1563\u001b[0m \u001b[32m━━━━━━━━━━━━━━━━━━━━\u001b[0m\u001b[37m\u001b[0m \u001b[1m7s\u001b[0m 3ms/step - accuracy: 0.3558 - loss: 1.7333\n",
      "Epoch 2/20\n",
      "\u001b[1m1563/1563\u001b[0m \u001b[32m━━━━━━━━━━━━━━━━━━━━\u001b[0m\u001b[37m\u001b[0m \u001b[1m5s\u001b[0m 3ms/step - accuracy: 0.5701 - loss: 1.2063\n",
      "Epoch 3/20\n",
      "\u001b[1m1563/1563\u001b[0m \u001b[32m━━━━━━━━━━━━━━━━━━━━\u001b[0m\u001b[37m\u001b[0m \u001b[1m5s\u001b[0m 3ms/step - accuracy: 0.6314 - loss: 1.0438\n",
      "Epoch 4/20\n",
      "\u001b[1m1563/1563\u001b[0m \u001b[32m━━━━━━━━━━━━━━━━━━━━\u001b[0m\u001b[37m\u001b[0m \u001b[1m5s\u001b[0m 3ms/step - accuracy: 0.6721 - loss: 0.9246\n",
      "Epoch 5/20\n",
      "\u001b[1m1563/1563\u001b[0m \u001b[32m━━━━━━━━━━━━━━━━━━━━\u001b[0m\u001b[37m\u001b[0m \u001b[1m5s\u001b[0m 3ms/step - accuracy: 0.7038 - loss: 0.8423\n",
      "Epoch 6/20\n",
      "\u001b[1m1563/1563\u001b[0m \u001b[32m━━━━━━━━━━━━━━━━━━━━\u001b[0m\u001b[37m\u001b[0m \u001b[1m5s\u001b[0m 3ms/step - accuracy: 0.7337 - loss: 0.7601\n",
      "Epoch 7/20\n",
      "\u001b[1m1563/1563\u001b[0m \u001b[32m━━━━━━━━━━━━━━━━━━━━\u001b[0m\u001b[37m\u001b[0m \u001b[1m5s\u001b[0m 3ms/step - accuracy: 0.7604 - loss: 0.6828\n",
      "Epoch 8/20\n",
      "\u001b[1m1563/1563\u001b[0m \u001b[32m━━━━━━━━━━━━━━━━━━━━\u001b[0m\u001b[37m\u001b[0m \u001b[1m5s\u001b[0m 3ms/step - accuracy: 0.7857 - loss: 0.6131\n",
      "Epoch 9/20\n",
      "\u001b[1m1563/1563\u001b[0m \u001b[32m━━━━━━━━━━━━━━━━━━━━\u001b[0m\u001b[37m\u001b[0m \u001b[1m5s\u001b[0m 3ms/step - accuracy: 0.8098 - loss: 0.5402\n",
      "Epoch 10/20\n",
      "\u001b[1m1563/1563\u001b[0m \u001b[32m━━━━━━━━━━━━━━━━━━━━\u001b[0m\u001b[37m\u001b[0m \u001b[1m5s\u001b[0m 3ms/step - accuracy: 0.8318 - loss: 0.4778\n",
      "Epoch 11/20\n",
      "\u001b[1m1563/1563\u001b[0m \u001b[32m━━━━━━━━━━━━━━━━━━━━\u001b[0m\u001b[37m\u001b[0m \u001b[1m5s\u001b[0m 3ms/step - accuracy: 0.8502 - loss: 0.4213\n",
      "Epoch 12/20\n",
      "\u001b[1m1563/1563\u001b[0m \u001b[32m━━━━━━━━━━━━━━━━━━━━\u001b[0m\u001b[37m\u001b[0m \u001b[1m5s\u001b[0m 3ms/step - accuracy: 0.8710 - loss: 0.3687\n",
      "Epoch 13/20\n",
      "\u001b[1m1563/1563\u001b[0m \u001b[32m━━━━━━━━━━━━━━━━━━━━\u001b[0m\u001b[37m\u001b[0m \u001b[1m5s\u001b[0m 3ms/step - accuracy: 0.8932 - loss: 0.3044\n",
      "Epoch 14/20\n",
      "\u001b[1m1563/1563\u001b[0m \u001b[32m━━━━━━━━━━━━━━━━━━━━\u001b[0m\u001b[37m\u001b[0m \u001b[1m5s\u001b[0m 3ms/step - accuracy: 0.9077 - loss: 0.2615\n",
      "Epoch 15/20\n",
      "\u001b[1m1563/1563\u001b[0m \u001b[32m━━━━━━━━━━━━━━━━━━━━\u001b[0m\u001b[37m\u001b[0m \u001b[1m5s\u001b[0m 3ms/step - accuracy: 0.9171 - loss: 0.2293\n",
      "Epoch 16/20\n",
      "\u001b[1m1563/1563\u001b[0m \u001b[32m━━━━━━━━━━━━━━━━━━━━\u001b[0m\u001b[37m\u001b[0m \u001b[1m5s\u001b[0m 3ms/step - accuracy: 0.9338 - loss: 0.1873\n",
      "Epoch 17/20\n",
      "\u001b[1m1563/1563\u001b[0m \u001b[32m━━━━━━━━━━━━━━━━━━━━\u001b[0m\u001b[37m\u001b[0m \u001b[1m5s\u001b[0m 3ms/step - accuracy: 0.9361 - loss: 0.1799\n",
      "Epoch 18/20\n",
      "\u001b[1m1563/1563\u001b[0m \u001b[32m━━━━━━━━━━━━━━━━━━━━\u001b[0m\u001b[37m\u001b[0m \u001b[1m5s\u001b[0m 3ms/step - accuracy: 0.9443 - loss: 0.1597\n",
      "Epoch 19/20\n",
      "\u001b[1m1563/1563\u001b[0m \u001b[32m━━━━━━━━━━━━━━━━━━━━\u001b[0m\u001b[37m\u001b[0m \u001b[1m5s\u001b[0m 3ms/step - accuracy: 0.9516 - loss: 0.1394\n",
      "Epoch 20/20\n",
      "\u001b[1m1563/1563\u001b[0m \u001b[32m━━━━━━━━━━━━━━━━━━━━\u001b[0m\u001b[37m\u001b[0m \u001b[1m5s\u001b[0m 3ms/step - accuracy: 0.9512 - loss: 0.1381\n"
     ]
    },
    {
     "data": {
      "text/plain": [
       "<keras.src.callbacks.history.History at 0x1bdbe6c6990>"
      ]
     },
     "execution_count": 15,
     "metadata": {},
     "output_type": "execute_result"
    }
   ],
   "source": [
    "cnn.fit(X_train,y_train,epochs=20)"
   ]
  },
  {
   "cell_type": "code",
   "execution_count": 17,
   "id": "cf6bf399-483b-4b0a-a5a7-5fe130cdc7e4",
   "metadata": {},
   "outputs": [
    {
     "name": "stdout",
     "output_type": "stream",
     "text": [
      "\u001b[1m313/313\u001b[0m \u001b[32m━━━━━━━━━━━━━━━━━━━━\u001b[0m\u001b[37m\u001b[0m \u001b[1m1s\u001b[0m 1ms/step - accuracy: 0.6873 - loss: 1.7857\n"
     ]
    },
    {
     "data": {
      "text/plain": [
       "[1.8045841455459595, 0.6851999759674072]"
      ]
     },
     "execution_count": 17,
     "metadata": {},
     "output_type": "execute_result"
    }
   ],
   "source": [
    "cnn.evaluate(X_test,y_test)"
   ]
  },
  {
   "cell_type": "code",
   "execution_count": 20,
   "id": "1bb142e1-26bc-4c04-8534-caf7eaa29bcb",
   "metadata": {},
   "outputs": [],
   "source": [
    "cnn1 = models.Sequential([\n",
    "\n",
    "    \n",
    "    #cnn adımları\n",
    "    \n",
    "    layers.Conv2D(filters=64,kernel_size = (4,4), activation = 'relu',input_shape = (32,32,3)),\n",
    "    layers.MaxPooling2D((2,2)),\n",
    "    layers.Dropout(0.5),\n",
    "\n",
    "    layers.Conv2D(filters=64,kernel_size = (4,4), activation = 'relu',input_shape = (32,32,3)),\n",
    "    layers.MaxPooling2D((2,2)),\n",
    "    layers.Dropout(0.25),\n",
    "\n",
    "\n",
    "    #dense\n",
    "    layers.Flatten(),\n",
    "    layers.Dense(256, activation='relu'),\n",
    "    layers.Dense(10, activation='softmax')\n",
    "])"
   ]
  },
  {
   "cell_type": "code",
   "execution_count": 21,
   "id": "7ee576d5-95d1-453c-ada1-47595dd4dead",
   "metadata": {},
   "outputs": [],
   "source": [
    "cnn1.compile(optimizer='adam',\n",
    "           loss='sparse_categorical_crossentropy',\n",
    "           metrics=['accuracy'])"
   ]
  },
  {
   "cell_type": "code",
   "execution_count": 23,
   "id": "40f2abd6-5fb4-493b-be9c-d8f6b347ba75",
   "metadata": {},
   "outputs": [
    {
     "name": "stdout",
     "output_type": "stream",
     "text": [
      "Epoch 1/20\n",
      "\u001b[1m1563/1563\u001b[0m \u001b[32m━━━━━━━━━━━━━━━━━━━━\u001b[0m\u001b[37m\u001b[0m \u001b[1m13s\u001b[0m 8ms/step - accuracy: 0.8130 - loss: 0.5271\n",
      "Epoch 2/20\n",
      "\u001b[1m1563/1563\u001b[0m \u001b[32m━━━━━━━━━━━━━━━━━━━━\u001b[0m\u001b[37m\u001b[0m \u001b[1m13s\u001b[0m 8ms/step - accuracy: 0.8156 - loss: 0.5211\n",
      "Epoch 3/20\n",
      "\u001b[1m1563/1563\u001b[0m \u001b[32m━━━━━━━━━━━━━━━━━━━━\u001b[0m\u001b[37m\u001b[0m \u001b[1m13s\u001b[0m 8ms/step - accuracy: 0.8200 - loss: 0.5070\n",
      "Epoch 4/20\n",
      "\u001b[1m1563/1563\u001b[0m \u001b[32m━━━━━━━━━━━━━━━━━━━━\u001b[0m\u001b[37m\u001b[0m \u001b[1m13s\u001b[0m 8ms/step - accuracy: 0.8232 - loss: 0.5040\n",
      "Epoch 5/20\n",
      "\u001b[1m1563/1563\u001b[0m \u001b[32m━━━━━━━━━━━━━━━━━━━━\u001b[0m\u001b[37m\u001b[0m \u001b[1m13s\u001b[0m 8ms/step - accuracy: 0.8240 - loss: 0.4970\n",
      "Epoch 6/20\n",
      "\u001b[1m1563/1563\u001b[0m \u001b[32m━━━━━━━━━━━━━━━━━━━━\u001b[0m\u001b[37m\u001b[0m \u001b[1m13s\u001b[0m 8ms/step - accuracy: 0.8301 - loss: 0.4799\n",
      "Epoch 7/20\n",
      "\u001b[1m1563/1563\u001b[0m \u001b[32m━━━━━━━━━━━━━━━━━━━━\u001b[0m\u001b[37m\u001b[0m \u001b[1m13s\u001b[0m 8ms/step - accuracy: 0.8320 - loss: 0.4731\n",
      "Epoch 8/20\n",
      "\u001b[1m1563/1563\u001b[0m \u001b[32m━━━━━━━━━━━━━━━━━━━━\u001b[0m\u001b[37m\u001b[0m \u001b[1m13s\u001b[0m 8ms/step - accuracy: 0.8378 - loss: 0.4587\n",
      "Epoch 9/20\n",
      "\u001b[1m1563/1563\u001b[0m \u001b[32m━━━━━━━━━━━━━━━━━━━━\u001b[0m\u001b[37m\u001b[0m \u001b[1m13s\u001b[0m 8ms/step - accuracy: 0.8389 - loss: 0.4583\n",
      "Epoch 10/20\n",
      "\u001b[1m1563/1563\u001b[0m \u001b[32m━━━━━━━━━━━━━━━━━━━━\u001b[0m\u001b[37m\u001b[0m \u001b[1m13s\u001b[0m 8ms/step - accuracy: 0.8364 - loss: 0.4586\n",
      "Epoch 11/20\n",
      "\u001b[1m1563/1563\u001b[0m \u001b[32m━━━━━━━━━━━━━━━━━━━━\u001b[0m\u001b[37m\u001b[0m \u001b[1m13s\u001b[0m 8ms/step - accuracy: 0.8475 - loss: 0.4374\n",
      "Epoch 12/20\n",
      "\u001b[1m1563/1563\u001b[0m \u001b[32m━━━━━━━━━━━━━━━━━━━━\u001b[0m\u001b[37m\u001b[0m \u001b[1m13s\u001b[0m 8ms/step - accuracy: 0.8486 - loss: 0.4321\n",
      "Epoch 13/20\n",
      "\u001b[1m1563/1563\u001b[0m \u001b[32m━━━━━━━━━━━━━━━━━━━━\u001b[0m\u001b[37m\u001b[0m \u001b[1m13s\u001b[0m 8ms/step - accuracy: 0.8491 - loss: 0.4328\n",
      "Epoch 14/20\n",
      "\u001b[1m1563/1563\u001b[0m \u001b[32m━━━━━━━━━━━━━━━━━━━━\u001b[0m\u001b[37m\u001b[0m \u001b[1m13s\u001b[0m 8ms/step - accuracy: 0.8469 - loss: 0.4314\n",
      "Epoch 15/20\n",
      "\u001b[1m1563/1563\u001b[0m \u001b[32m━━━━━━━━━━━━━━━━━━━━\u001b[0m\u001b[37m\u001b[0m \u001b[1m13s\u001b[0m 8ms/step - accuracy: 0.8475 - loss: 0.4309\n",
      "Epoch 16/20\n",
      "\u001b[1m1563/1563\u001b[0m \u001b[32m━━━━━━━━━━━━━━━━━━━━\u001b[0m\u001b[37m\u001b[0m \u001b[1m13s\u001b[0m 8ms/step - accuracy: 0.8501 - loss: 0.4300\n",
      "Epoch 17/20\n",
      "\u001b[1m1563/1563\u001b[0m \u001b[32m━━━━━━━━━━━━━━━━━━━━\u001b[0m\u001b[37m\u001b[0m \u001b[1m13s\u001b[0m 8ms/step - accuracy: 0.8492 - loss: 0.4261\n",
      "Epoch 18/20\n",
      "\u001b[1m1563/1563\u001b[0m \u001b[32m━━━━━━━━━━━━━━━━━━━━\u001b[0m\u001b[37m\u001b[0m \u001b[1m13s\u001b[0m 8ms/step - accuracy: 0.8597 - loss: 0.4054\n",
      "Epoch 19/20\n",
      "\u001b[1m1563/1563\u001b[0m \u001b[32m━━━━━━━━━━━━━━━━━━━━\u001b[0m\u001b[37m\u001b[0m \u001b[1m13s\u001b[0m 8ms/step - accuracy: 0.8580 - loss: 0.4042\n",
      "Epoch 20/20\n",
      "\u001b[1m1563/1563\u001b[0m \u001b[32m━━━━━━━━━━━━━━━━━━━━\u001b[0m\u001b[37m\u001b[0m \u001b[1m13s\u001b[0m 8ms/step - accuracy: 0.8569 - loss: 0.4046\n"
     ]
    },
    {
     "data": {
      "text/plain": [
       "<keras.src.callbacks.history.History at 0x1be23175670>"
      ]
     },
     "execution_count": 23,
     "metadata": {},
     "output_type": "execute_result"
    }
   ],
   "source": [
    "cnn1.fit(X_train,y_train,epochs=50)"
   ]
  },
  {
   "cell_type": "code",
   "execution_count": 24,
   "id": "05eed3eb-d49c-4bc6-9638-55066e795f8e",
   "metadata": {},
   "outputs": [
    {
     "name": "stdout",
     "output_type": "stream",
     "text": [
      "\u001b[1m313/313\u001b[0m \u001b[32m━━━━━━━━━━━━━━━━━━━━\u001b[0m\u001b[37m\u001b[0m \u001b[1m1s\u001b[0m 3ms/step - accuracy: 0.7063 - loss: 1.0470\n"
     ]
    },
    {
     "data": {
      "text/plain": [
       "[1.059158444404602, 0.7074999809265137]"
      ]
     },
     "execution_count": 24,
     "metadata": {},
     "output_type": "execute_result"
    }
   ],
   "source": [
    "cnn1.evaluate(X_test,y_test)"
   ]
  },
  {
   "cell_type": "code",
   "execution_count": 28,
   "id": "4c58e0fa-4b9b-432e-9e5a-7b57b1227948",
   "metadata": {},
   "outputs": [],
   "source": [
    "cnn2 = models.Sequential([\n",
    "\n",
    "    #cnn adımları    \n",
    "    layers.Conv2D(filters=64,kernel_size = (4,4), activation = 'relu',input_shape = (32,32,3)),\n",
    "    layers.Conv2D(filters=64,kernel_size = (4,4), activation = 'relu',input_shape = (32,32,3)),\n",
    "    layers.MaxPooling2D((2,2)),\n",
    "    layers.Dropout(0.5),\n",
    "\n",
    "    layers.Conv2D(filters=128,kernel_size = (4,4), activation = 'relu',input_shape = (32,32,3)),\n",
    "    layers.Conv2D(filters=128,kernel_size = (4,4), activation = 'relu',input_shape = (32,32,3)),\n",
    "    layers.MaxPooling2D((2,2)),\n",
    "    layers.Dropout(0.25),\n",
    "\n",
    "    #dense\n",
    "    layers.Flatten(),\n",
    "    layers.Dense(1024, activation='relu'),\n",
    "    layers.Dense(1024, activation='relu'),\n",
    "    \n",
    "    layers.Dense(10, activation='softmax')\n",
    "])"
   ]
  },
  {
   "cell_type": "code",
   "execution_count": 29,
   "id": "a38ed8f4-f333-430f-b432-36e26071b6fd",
   "metadata": {},
   "outputs": [],
   "source": [
    "cnn2.compile(optimizer='adam',\n",
    "           loss='sparse_categorical_crossentropy',\n",
    "           metrics=['accuracy'])"
   ]
  },
  {
   "cell_type": "code",
   "execution_count": 32,
   "id": "a93b8d62-9051-498d-8fd5-aa352cfd4df5",
   "metadata": {},
   "outputs": [
    {
     "name": "stdout",
     "output_type": "stream",
     "text": [
      "Epoch 1/10\n",
      "\u001b[1m1563/1563\u001b[0m \u001b[32m━━━━━━━━━━━━━━━━━━━━\u001b[0m\u001b[37m\u001b[0m \u001b[1m55s\u001b[0m 35ms/step - accuracy: 0.8176 - loss: 0.5281\n",
      "Epoch 2/10\n",
      "\u001b[1m1563/1563\u001b[0m \u001b[32m━━━━━━━━━━━━━━━━━━━━\u001b[0m\u001b[37m\u001b[0m \u001b[1m57s\u001b[0m 37ms/step - accuracy: 0.8171 - loss: 0.5280\n",
      "Epoch 3/10\n",
      "\u001b[1m1563/1563\u001b[0m \u001b[32m━━━━━━━━━━━━━━━━━━━━\u001b[0m\u001b[37m\u001b[0m \u001b[1m57s\u001b[0m 37ms/step - accuracy: 0.8243 - loss: 0.5159\n",
      "Epoch 4/10\n",
      "\u001b[1m1563/1563\u001b[0m \u001b[32m━━━━━━━━━━━━━━━━━━━━\u001b[0m\u001b[37m\u001b[0m \u001b[1m57s\u001b[0m 37ms/step - accuracy: 0.8249 - loss: 0.5162\n",
      "Epoch 5/10\n",
      "\u001b[1m1563/1563\u001b[0m \u001b[32m━━━━━━━━━━━━━━━━━━━━\u001b[0m\u001b[37m\u001b[0m \u001b[1m60s\u001b[0m 38ms/step - accuracy: 0.8217 - loss: 0.5232\n",
      "Epoch 6/10\n",
      "\u001b[1m1563/1563\u001b[0m \u001b[32m━━━━━━━━━━━━━━━━━━━━\u001b[0m\u001b[37m\u001b[0m \u001b[1m58s\u001b[0m 37ms/step - accuracy: 0.8190 - loss: 0.5299\n",
      "Epoch 7/10\n",
      "\u001b[1m1563/1563\u001b[0m \u001b[32m━━━━━━━━━━━━━━━━━━━━\u001b[0m\u001b[37m\u001b[0m \u001b[1m57s\u001b[0m 36ms/step - accuracy: 0.8269 - loss: 0.5118\n",
      "Epoch 8/10\n",
      "\u001b[1m1563/1563\u001b[0m \u001b[32m━━━━━━━━━━━━━━━━━━━━\u001b[0m\u001b[37m\u001b[0m \u001b[1m57s\u001b[0m 36ms/step - accuracy: 0.8239 - loss: 0.5142\n",
      "Epoch 9/10\n",
      "\u001b[1m1563/1563\u001b[0m \u001b[32m━━━━━━━━━━━━━━━━━━━━\u001b[0m\u001b[37m\u001b[0m \u001b[1m58s\u001b[0m 37ms/step - accuracy: 0.8302 - loss: 0.4936\n",
      "Epoch 10/10\n",
      "\u001b[1m1563/1563\u001b[0m \u001b[32m━━━━━━━━━━━━━━━━━━━━\u001b[0m\u001b[37m\u001b[0m \u001b[1m57s\u001b[0m 36ms/step - accuracy: 0.8330 - loss: 0.4864\n"
     ]
    },
    {
     "data": {
      "text/plain": [
       "<keras.src.callbacks.history.History at 0x1be2235d670>"
      ]
     },
     "execution_count": 32,
     "metadata": {},
     "output_type": "execute_result"
    }
   ],
   "source": [
    "cnn2.fit(X_train,y_train,epochs=10)"
   ]
  },
  {
   "cell_type": "code",
   "execution_count": 33,
   "id": "11e5375a-44aa-4e10-b122-af5c15d60ec5",
   "metadata": {},
   "outputs": [
    {
     "name": "stdout",
     "output_type": "stream",
     "text": [
      "\u001b[1m313/313\u001b[0m \u001b[32m━━━━━━━━━━━━━━━━━━━━\u001b[0m\u001b[37m\u001b[0m \u001b[1m3s\u001b[0m 9ms/step - accuracy: 0.7444 - loss: 0.8425\n"
     ]
    },
    {
     "data": {
      "text/plain": [
       "[0.8508039116859436, 0.7430999875068665]"
      ]
     },
     "execution_count": 33,
     "metadata": {},
     "output_type": "execute_result"
    }
   ],
   "source": [
    "cnn2.evaluate(X_test,y_test)"
   ]
  },
  {
   "cell_type": "code",
   "execution_count": 17,
   "id": "cfe9b8f4-735d-4d43-9229-f41744648c8e",
   "metadata": {},
   "outputs": [],
   "source": [
    "cnn3 = models.Sequential([\n",
    "\n",
    "    #cnn adımları    \n",
    "    layers.Conv2D(filters=32,kernel_size = (3,3), activation = 'relu',input_shape = (32,32,3),padding='same'),\n",
    "    BatchNormalization(),\n",
    "    layers.Conv2D(filters=32,kernel_size = (3,3), activation = 'relu',input_shape = (32,32,3),padding='same'),\n",
    "    BatchNormalization(),\n",
    "    layers.MaxPooling2D((2,2)),\n",
    "    layers.Dropout(0.25),\n",
    "\n",
    "    layers.Conv2D(filters=64,kernel_size = (3,3), activation = 'relu',input_shape = (32,32,3),padding='same'),\n",
    "    BatchNormalization(),\n",
    "    layers.Conv2D(filters=64,kernel_size = (3,3), activation = 'relu',input_shape = (32,32,3),padding='same'),\n",
    "    BatchNormalization(),\n",
    "    layers.MaxPooling2D((2,2)),\n",
    "    layers.Dropout(0.25),\n",
    "\n",
    "    layers.Conv2D(filters=128,kernel_size = (3,3), activation = 'relu',input_shape = (32,32,3),padding='same'),\n",
    "    BatchNormalization(),\n",
    "    layers.Conv2D(filters=128,kernel_size = (3,3), activation = 'relu',input_shape = (32,32,3),padding='same'),\n",
    "    BatchNormalization(),\n",
    "    layers.MaxPooling2D((2,2)),\n",
    "    layers.Dropout(0.25),\n",
    "\n",
    "\n",
    "    #dense\n",
    "    layers.Flatten(),\n",
    "\n",
    "    layers.Dense(1024, activation='relu'),\n",
    "    layers.Dropout(0.25),    \n",
    "    layers.Dense(10, activation='softmax')\n",
    "])"
   ]
  },
  {
   "cell_type": "code",
   "execution_count": 18,
   "id": "03d5beac-6918-4b8d-ba59-8b2c828036db",
   "metadata": {},
   "outputs": [],
   "source": [
    "METRICS = [\n",
    "    'accuracy',\n",
    "    tf.keras.metrics.Precision(name='precision'),\n",
    "    tf.keras.metrics.Recall(name='recall')\n",
    "]\n",
    "cnn3.compile(loss='sparse_categorical_crossentropy', optimizer='adam', metrics=METRICS)"
   ]
  },
  {
   "cell_type": "code",
   "execution_count": 19,
   "id": "8331c68e-1362-408c-bd0d-a6542fda123a",
   "metadata": {},
   "outputs": [
    {
     "data": {
      "text/html": [
       "<pre style=\"white-space:pre;overflow-x:auto;line-height:normal;font-family:Menlo,'DejaVu Sans Mono',consolas,'Courier New',monospace\"><span style=\"font-weight: bold\">Model: \"sequential_1\"</span>\n",
       "</pre>\n"
      ],
      "text/plain": [
       "\u001b[1mModel: \"sequential_1\"\u001b[0m\n"
      ]
     },
     "metadata": {},
     "output_type": "display_data"
    },
    {
     "data": {
      "text/html": [
       "<pre style=\"white-space:pre;overflow-x:auto;line-height:normal;font-family:Menlo,'DejaVu Sans Mono',consolas,'Courier New',monospace\">┏━━━━━━━━━━━━━━━━━━━━━━━━━━━━━━━━━━━━━━┳━━━━━━━━━━━━━━━━━━━━━━━━━━━━━┳━━━━━━━━━━━━━━━━━┓\n",
       "┃<span style=\"font-weight: bold\"> Layer (type)                         </span>┃<span style=\"font-weight: bold\"> Output Shape                </span>┃<span style=\"font-weight: bold\">         Param # </span>┃\n",
       "┡━━━━━━━━━━━━━━━━━━━━━━━━━━━━━━━━━━━━━━╇━━━━━━━━━━━━━━━━━━━━━━━━━━━━━╇━━━━━━━━━━━━━━━━━┩\n",
       "│ conv2d_3 (<span style=\"color: #0087ff; text-decoration-color: #0087ff\">Conv2D</span>)                    │ (<span style=\"color: #00d7ff; text-decoration-color: #00d7ff\">None</span>, <span style=\"color: #00af00; text-decoration-color: #00af00\">32</span>, <span style=\"color: #00af00; text-decoration-color: #00af00\">32</span>, <span style=\"color: #00af00; text-decoration-color: #00af00\">32</span>)          │             <span style=\"color: #00af00; text-decoration-color: #00af00\">896</span> │\n",
       "├──────────────────────────────────────┼─────────────────────────────┼─────────────────┤\n",
       "│ batch_normalization                  │ (<span style=\"color: #00d7ff; text-decoration-color: #00d7ff\">None</span>, <span style=\"color: #00af00; text-decoration-color: #00af00\">32</span>, <span style=\"color: #00af00; text-decoration-color: #00af00\">32</span>, <span style=\"color: #00af00; text-decoration-color: #00af00\">32</span>)          │             <span style=\"color: #00af00; text-decoration-color: #00af00\">128</span> │\n",
       "│ (<span style=\"color: #0087ff; text-decoration-color: #0087ff\">BatchNormalization</span>)                 │                             │                 │\n",
       "├──────────────────────────────────────┼─────────────────────────────┼─────────────────┤\n",
       "│ conv2d_4 (<span style=\"color: #0087ff; text-decoration-color: #0087ff\">Conv2D</span>)                    │ (<span style=\"color: #00d7ff; text-decoration-color: #00d7ff\">None</span>, <span style=\"color: #00af00; text-decoration-color: #00af00\">32</span>, <span style=\"color: #00af00; text-decoration-color: #00af00\">32</span>, <span style=\"color: #00af00; text-decoration-color: #00af00\">32</span>)          │           <span style=\"color: #00af00; text-decoration-color: #00af00\">9,248</span> │\n",
       "├──────────────────────────────────────┼─────────────────────────────┼─────────────────┤\n",
       "│ batch_normalization_1                │ (<span style=\"color: #00d7ff; text-decoration-color: #00d7ff\">None</span>, <span style=\"color: #00af00; text-decoration-color: #00af00\">32</span>, <span style=\"color: #00af00; text-decoration-color: #00af00\">32</span>, <span style=\"color: #00af00; text-decoration-color: #00af00\">32</span>)          │             <span style=\"color: #00af00; text-decoration-color: #00af00\">128</span> │\n",
       "│ (<span style=\"color: #0087ff; text-decoration-color: #0087ff\">BatchNormalization</span>)                 │                             │                 │\n",
       "├──────────────────────────────────────┼─────────────────────────────┼─────────────────┤\n",
       "│ max_pooling2d_3 (<span style=\"color: #0087ff; text-decoration-color: #0087ff\">MaxPooling2D</span>)       │ (<span style=\"color: #00d7ff; text-decoration-color: #00d7ff\">None</span>, <span style=\"color: #00af00; text-decoration-color: #00af00\">16</span>, <span style=\"color: #00af00; text-decoration-color: #00af00\">16</span>, <span style=\"color: #00af00; text-decoration-color: #00af00\">32</span>)          │               <span style=\"color: #00af00; text-decoration-color: #00af00\">0</span> │\n",
       "├──────────────────────────────────────┼─────────────────────────────┼─────────────────┤\n",
       "│ dropout (<span style=\"color: #0087ff; text-decoration-color: #0087ff\">Dropout</span>)                    │ (<span style=\"color: #00d7ff; text-decoration-color: #00d7ff\">None</span>, <span style=\"color: #00af00; text-decoration-color: #00af00\">16</span>, <span style=\"color: #00af00; text-decoration-color: #00af00\">16</span>, <span style=\"color: #00af00; text-decoration-color: #00af00\">32</span>)          │               <span style=\"color: #00af00; text-decoration-color: #00af00\">0</span> │\n",
       "├──────────────────────────────────────┼─────────────────────────────┼─────────────────┤\n",
       "│ conv2d_5 (<span style=\"color: #0087ff; text-decoration-color: #0087ff\">Conv2D</span>)                    │ (<span style=\"color: #00d7ff; text-decoration-color: #00d7ff\">None</span>, <span style=\"color: #00af00; text-decoration-color: #00af00\">16</span>, <span style=\"color: #00af00; text-decoration-color: #00af00\">16</span>, <span style=\"color: #00af00; text-decoration-color: #00af00\">64</span>)          │          <span style=\"color: #00af00; text-decoration-color: #00af00\">18,496</span> │\n",
       "├──────────────────────────────────────┼─────────────────────────────┼─────────────────┤\n",
       "│ batch_normalization_2                │ (<span style=\"color: #00d7ff; text-decoration-color: #00d7ff\">None</span>, <span style=\"color: #00af00; text-decoration-color: #00af00\">16</span>, <span style=\"color: #00af00; text-decoration-color: #00af00\">16</span>, <span style=\"color: #00af00; text-decoration-color: #00af00\">64</span>)          │             <span style=\"color: #00af00; text-decoration-color: #00af00\">256</span> │\n",
       "│ (<span style=\"color: #0087ff; text-decoration-color: #0087ff\">BatchNormalization</span>)                 │                             │                 │\n",
       "├──────────────────────────────────────┼─────────────────────────────┼─────────────────┤\n",
       "│ conv2d_6 (<span style=\"color: #0087ff; text-decoration-color: #0087ff\">Conv2D</span>)                    │ (<span style=\"color: #00d7ff; text-decoration-color: #00d7ff\">None</span>, <span style=\"color: #00af00; text-decoration-color: #00af00\">16</span>, <span style=\"color: #00af00; text-decoration-color: #00af00\">16</span>, <span style=\"color: #00af00; text-decoration-color: #00af00\">64</span>)          │          <span style=\"color: #00af00; text-decoration-color: #00af00\">36,928</span> │\n",
       "├──────────────────────────────────────┼─────────────────────────────┼─────────────────┤\n",
       "│ batch_normalization_3                │ (<span style=\"color: #00d7ff; text-decoration-color: #00d7ff\">None</span>, <span style=\"color: #00af00; text-decoration-color: #00af00\">16</span>, <span style=\"color: #00af00; text-decoration-color: #00af00\">16</span>, <span style=\"color: #00af00; text-decoration-color: #00af00\">64</span>)          │             <span style=\"color: #00af00; text-decoration-color: #00af00\">256</span> │\n",
       "│ (<span style=\"color: #0087ff; text-decoration-color: #0087ff\">BatchNormalization</span>)                 │                             │                 │\n",
       "├──────────────────────────────────────┼─────────────────────────────┼─────────────────┤\n",
       "│ max_pooling2d_4 (<span style=\"color: #0087ff; text-decoration-color: #0087ff\">MaxPooling2D</span>)       │ (<span style=\"color: #00d7ff; text-decoration-color: #00d7ff\">None</span>, <span style=\"color: #00af00; text-decoration-color: #00af00\">8</span>, <span style=\"color: #00af00; text-decoration-color: #00af00\">8</span>, <span style=\"color: #00af00; text-decoration-color: #00af00\">64</span>)            │               <span style=\"color: #00af00; text-decoration-color: #00af00\">0</span> │\n",
       "├──────────────────────────────────────┼─────────────────────────────┼─────────────────┤\n",
       "│ dropout_1 (<span style=\"color: #0087ff; text-decoration-color: #0087ff\">Dropout</span>)                  │ (<span style=\"color: #00d7ff; text-decoration-color: #00d7ff\">None</span>, <span style=\"color: #00af00; text-decoration-color: #00af00\">8</span>, <span style=\"color: #00af00; text-decoration-color: #00af00\">8</span>, <span style=\"color: #00af00; text-decoration-color: #00af00\">64</span>)            │               <span style=\"color: #00af00; text-decoration-color: #00af00\">0</span> │\n",
       "├──────────────────────────────────────┼─────────────────────────────┼─────────────────┤\n",
       "│ conv2d_7 (<span style=\"color: #0087ff; text-decoration-color: #0087ff\">Conv2D</span>)                    │ (<span style=\"color: #00d7ff; text-decoration-color: #00d7ff\">None</span>, <span style=\"color: #00af00; text-decoration-color: #00af00\">8</span>, <span style=\"color: #00af00; text-decoration-color: #00af00\">8</span>, <span style=\"color: #00af00; text-decoration-color: #00af00\">128</span>)           │          <span style=\"color: #00af00; text-decoration-color: #00af00\">73,856</span> │\n",
       "├──────────────────────────────────────┼─────────────────────────────┼─────────────────┤\n",
       "│ batch_normalization_4                │ (<span style=\"color: #00d7ff; text-decoration-color: #00d7ff\">None</span>, <span style=\"color: #00af00; text-decoration-color: #00af00\">8</span>, <span style=\"color: #00af00; text-decoration-color: #00af00\">8</span>, <span style=\"color: #00af00; text-decoration-color: #00af00\">128</span>)           │             <span style=\"color: #00af00; text-decoration-color: #00af00\">512</span> │\n",
       "│ (<span style=\"color: #0087ff; text-decoration-color: #0087ff\">BatchNormalization</span>)                 │                             │                 │\n",
       "├──────────────────────────────────────┼─────────────────────────────┼─────────────────┤\n",
       "│ conv2d_8 (<span style=\"color: #0087ff; text-decoration-color: #0087ff\">Conv2D</span>)                    │ (<span style=\"color: #00d7ff; text-decoration-color: #00d7ff\">None</span>, <span style=\"color: #00af00; text-decoration-color: #00af00\">8</span>, <span style=\"color: #00af00; text-decoration-color: #00af00\">8</span>, <span style=\"color: #00af00; text-decoration-color: #00af00\">128</span>)           │         <span style=\"color: #00af00; text-decoration-color: #00af00\">147,584</span> │\n",
       "├──────────────────────────────────────┼─────────────────────────────┼─────────────────┤\n",
       "│ batch_normalization_5                │ (<span style=\"color: #00d7ff; text-decoration-color: #00d7ff\">None</span>, <span style=\"color: #00af00; text-decoration-color: #00af00\">8</span>, <span style=\"color: #00af00; text-decoration-color: #00af00\">8</span>, <span style=\"color: #00af00; text-decoration-color: #00af00\">128</span>)           │             <span style=\"color: #00af00; text-decoration-color: #00af00\">512</span> │\n",
       "│ (<span style=\"color: #0087ff; text-decoration-color: #0087ff\">BatchNormalization</span>)                 │                             │                 │\n",
       "├──────────────────────────────────────┼─────────────────────────────┼─────────────────┤\n",
       "│ max_pooling2d_5 (<span style=\"color: #0087ff; text-decoration-color: #0087ff\">MaxPooling2D</span>)       │ (<span style=\"color: #00d7ff; text-decoration-color: #00d7ff\">None</span>, <span style=\"color: #00af00; text-decoration-color: #00af00\">4</span>, <span style=\"color: #00af00; text-decoration-color: #00af00\">4</span>, <span style=\"color: #00af00; text-decoration-color: #00af00\">128</span>)           │               <span style=\"color: #00af00; text-decoration-color: #00af00\">0</span> │\n",
       "├──────────────────────────────────────┼─────────────────────────────┼─────────────────┤\n",
       "│ dropout_2 (<span style=\"color: #0087ff; text-decoration-color: #0087ff\">Dropout</span>)                  │ (<span style=\"color: #00d7ff; text-decoration-color: #00d7ff\">None</span>, <span style=\"color: #00af00; text-decoration-color: #00af00\">4</span>, <span style=\"color: #00af00; text-decoration-color: #00af00\">4</span>, <span style=\"color: #00af00; text-decoration-color: #00af00\">128</span>)           │               <span style=\"color: #00af00; text-decoration-color: #00af00\">0</span> │\n",
       "├──────────────────────────────────────┼─────────────────────────────┼─────────────────┤\n",
       "│ flatten_1 (<span style=\"color: #0087ff; text-decoration-color: #0087ff\">Flatten</span>)                  │ (<span style=\"color: #00d7ff; text-decoration-color: #00d7ff\">None</span>, <span style=\"color: #00af00; text-decoration-color: #00af00\">2048</span>)                │               <span style=\"color: #00af00; text-decoration-color: #00af00\">0</span> │\n",
       "├──────────────────────────────────────┼─────────────────────────────┼─────────────────┤\n",
       "│ dense_2 (<span style=\"color: #0087ff; text-decoration-color: #0087ff\">Dense</span>)                      │ (<span style=\"color: #00d7ff; text-decoration-color: #00d7ff\">None</span>, <span style=\"color: #00af00; text-decoration-color: #00af00\">1024</span>)                │       <span style=\"color: #00af00; text-decoration-color: #00af00\">2,098,176</span> │\n",
       "├──────────────────────────────────────┼─────────────────────────────┼─────────────────┤\n",
       "│ dropout_3 (<span style=\"color: #0087ff; text-decoration-color: #0087ff\">Dropout</span>)                  │ (<span style=\"color: #00d7ff; text-decoration-color: #00d7ff\">None</span>, <span style=\"color: #00af00; text-decoration-color: #00af00\">1024</span>)                │               <span style=\"color: #00af00; text-decoration-color: #00af00\">0</span> │\n",
       "├──────────────────────────────────────┼─────────────────────────────┼─────────────────┤\n",
       "│ dense_3 (<span style=\"color: #0087ff; text-decoration-color: #0087ff\">Dense</span>)                      │ (<span style=\"color: #00d7ff; text-decoration-color: #00d7ff\">None</span>, <span style=\"color: #00af00; text-decoration-color: #00af00\">10</span>)                  │          <span style=\"color: #00af00; text-decoration-color: #00af00\">10,250</span> │\n",
       "└──────────────────────────────────────┴─────────────────────────────┴─────────────────┘\n",
       "</pre>\n"
      ],
      "text/plain": [
       "┏━━━━━━━━━━━━━━━━━━━━━━━━━━━━━━━━━━━━━━┳━━━━━━━━━━━━━━━━━━━━━━━━━━━━━┳━━━━━━━━━━━━━━━━━┓\n",
       "┃\u001b[1m \u001b[0m\u001b[1mLayer (type)                        \u001b[0m\u001b[1m \u001b[0m┃\u001b[1m \u001b[0m\u001b[1mOutput Shape               \u001b[0m\u001b[1m \u001b[0m┃\u001b[1m \u001b[0m\u001b[1m        Param #\u001b[0m\u001b[1m \u001b[0m┃\n",
       "┡━━━━━━━━━━━━━━━━━━━━━━━━━━━━━━━━━━━━━━╇━━━━━━━━━━━━━━━━━━━━━━━━━━━━━╇━━━━━━━━━━━━━━━━━┩\n",
       "│ conv2d_3 (\u001b[38;5;33mConv2D\u001b[0m)                    │ (\u001b[38;5;45mNone\u001b[0m, \u001b[38;5;34m32\u001b[0m, \u001b[38;5;34m32\u001b[0m, \u001b[38;5;34m32\u001b[0m)          │             \u001b[38;5;34m896\u001b[0m │\n",
       "├──────────────────────────────────────┼─────────────────────────────┼─────────────────┤\n",
       "│ batch_normalization                  │ (\u001b[38;5;45mNone\u001b[0m, \u001b[38;5;34m32\u001b[0m, \u001b[38;5;34m32\u001b[0m, \u001b[38;5;34m32\u001b[0m)          │             \u001b[38;5;34m128\u001b[0m │\n",
       "│ (\u001b[38;5;33mBatchNormalization\u001b[0m)                 │                             │                 │\n",
       "├──────────────────────────────────────┼─────────────────────────────┼─────────────────┤\n",
       "│ conv2d_4 (\u001b[38;5;33mConv2D\u001b[0m)                    │ (\u001b[38;5;45mNone\u001b[0m, \u001b[38;5;34m32\u001b[0m, \u001b[38;5;34m32\u001b[0m, \u001b[38;5;34m32\u001b[0m)          │           \u001b[38;5;34m9,248\u001b[0m │\n",
       "├──────────────────────────────────────┼─────────────────────────────┼─────────────────┤\n",
       "│ batch_normalization_1                │ (\u001b[38;5;45mNone\u001b[0m, \u001b[38;5;34m32\u001b[0m, \u001b[38;5;34m32\u001b[0m, \u001b[38;5;34m32\u001b[0m)          │             \u001b[38;5;34m128\u001b[0m │\n",
       "│ (\u001b[38;5;33mBatchNormalization\u001b[0m)                 │                             │                 │\n",
       "├──────────────────────────────────────┼─────────────────────────────┼─────────────────┤\n",
       "│ max_pooling2d_3 (\u001b[38;5;33mMaxPooling2D\u001b[0m)       │ (\u001b[38;5;45mNone\u001b[0m, \u001b[38;5;34m16\u001b[0m, \u001b[38;5;34m16\u001b[0m, \u001b[38;5;34m32\u001b[0m)          │               \u001b[38;5;34m0\u001b[0m │\n",
       "├──────────────────────────────────────┼─────────────────────────────┼─────────────────┤\n",
       "│ dropout (\u001b[38;5;33mDropout\u001b[0m)                    │ (\u001b[38;5;45mNone\u001b[0m, \u001b[38;5;34m16\u001b[0m, \u001b[38;5;34m16\u001b[0m, \u001b[38;5;34m32\u001b[0m)          │               \u001b[38;5;34m0\u001b[0m │\n",
       "├──────────────────────────────────────┼─────────────────────────────┼─────────────────┤\n",
       "│ conv2d_5 (\u001b[38;5;33mConv2D\u001b[0m)                    │ (\u001b[38;5;45mNone\u001b[0m, \u001b[38;5;34m16\u001b[0m, \u001b[38;5;34m16\u001b[0m, \u001b[38;5;34m64\u001b[0m)          │          \u001b[38;5;34m18,496\u001b[0m │\n",
       "├──────────────────────────────────────┼─────────────────────────────┼─────────────────┤\n",
       "│ batch_normalization_2                │ (\u001b[38;5;45mNone\u001b[0m, \u001b[38;5;34m16\u001b[0m, \u001b[38;5;34m16\u001b[0m, \u001b[38;5;34m64\u001b[0m)          │             \u001b[38;5;34m256\u001b[0m │\n",
       "│ (\u001b[38;5;33mBatchNormalization\u001b[0m)                 │                             │                 │\n",
       "├──────────────────────────────────────┼─────────────────────────────┼─────────────────┤\n",
       "│ conv2d_6 (\u001b[38;5;33mConv2D\u001b[0m)                    │ (\u001b[38;5;45mNone\u001b[0m, \u001b[38;5;34m16\u001b[0m, \u001b[38;5;34m16\u001b[0m, \u001b[38;5;34m64\u001b[0m)          │          \u001b[38;5;34m36,928\u001b[0m │\n",
       "├──────────────────────────────────────┼─────────────────────────────┼─────────────────┤\n",
       "│ batch_normalization_3                │ (\u001b[38;5;45mNone\u001b[0m, \u001b[38;5;34m16\u001b[0m, \u001b[38;5;34m16\u001b[0m, \u001b[38;5;34m64\u001b[0m)          │             \u001b[38;5;34m256\u001b[0m │\n",
       "│ (\u001b[38;5;33mBatchNormalization\u001b[0m)                 │                             │                 │\n",
       "├──────────────────────────────────────┼─────────────────────────────┼─────────────────┤\n",
       "│ max_pooling2d_4 (\u001b[38;5;33mMaxPooling2D\u001b[0m)       │ (\u001b[38;5;45mNone\u001b[0m, \u001b[38;5;34m8\u001b[0m, \u001b[38;5;34m8\u001b[0m, \u001b[38;5;34m64\u001b[0m)            │               \u001b[38;5;34m0\u001b[0m │\n",
       "├──────────────────────────────────────┼─────────────────────────────┼─────────────────┤\n",
       "│ dropout_1 (\u001b[38;5;33mDropout\u001b[0m)                  │ (\u001b[38;5;45mNone\u001b[0m, \u001b[38;5;34m8\u001b[0m, \u001b[38;5;34m8\u001b[0m, \u001b[38;5;34m64\u001b[0m)            │               \u001b[38;5;34m0\u001b[0m │\n",
       "├──────────────────────────────────────┼─────────────────────────────┼─────────────────┤\n",
       "│ conv2d_7 (\u001b[38;5;33mConv2D\u001b[0m)                    │ (\u001b[38;5;45mNone\u001b[0m, \u001b[38;5;34m8\u001b[0m, \u001b[38;5;34m8\u001b[0m, \u001b[38;5;34m128\u001b[0m)           │          \u001b[38;5;34m73,856\u001b[0m │\n",
       "├──────────────────────────────────────┼─────────────────────────────┼─────────────────┤\n",
       "│ batch_normalization_4                │ (\u001b[38;5;45mNone\u001b[0m, \u001b[38;5;34m8\u001b[0m, \u001b[38;5;34m8\u001b[0m, \u001b[38;5;34m128\u001b[0m)           │             \u001b[38;5;34m512\u001b[0m │\n",
       "│ (\u001b[38;5;33mBatchNormalization\u001b[0m)                 │                             │                 │\n",
       "├──────────────────────────────────────┼─────────────────────────────┼─────────────────┤\n",
       "│ conv2d_8 (\u001b[38;5;33mConv2D\u001b[0m)                    │ (\u001b[38;5;45mNone\u001b[0m, \u001b[38;5;34m8\u001b[0m, \u001b[38;5;34m8\u001b[0m, \u001b[38;5;34m128\u001b[0m)           │         \u001b[38;5;34m147,584\u001b[0m │\n",
       "├──────────────────────────────────────┼─────────────────────────────┼─────────────────┤\n",
       "│ batch_normalization_5                │ (\u001b[38;5;45mNone\u001b[0m, \u001b[38;5;34m8\u001b[0m, \u001b[38;5;34m8\u001b[0m, \u001b[38;5;34m128\u001b[0m)           │             \u001b[38;5;34m512\u001b[0m │\n",
       "│ (\u001b[38;5;33mBatchNormalization\u001b[0m)                 │                             │                 │\n",
       "├──────────────────────────────────────┼─────────────────────────────┼─────────────────┤\n",
       "│ max_pooling2d_5 (\u001b[38;5;33mMaxPooling2D\u001b[0m)       │ (\u001b[38;5;45mNone\u001b[0m, \u001b[38;5;34m4\u001b[0m, \u001b[38;5;34m4\u001b[0m, \u001b[38;5;34m128\u001b[0m)           │               \u001b[38;5;34m0\u001b[0m │\n",
       "├──────────────────────────────────────┼─────────────────────────────┼─────────────────┤\n",
       "│ dropout_2 (\u001b[38;5;33mDropout\u001b[0m)                  │ (\u001b[38;5;45mNone\u001b[0m, \u001b[38;5;34m4\u001b[0m, \u001b[38;5;34m4\u001b[0m, \u001b[38;5;34m128\u001b[0m)           │               \u001b[38;5;34m0\u001b[0m │\n",
       "├──────────────────────────────────────┼─────────────────────────────┼─────────────────┤\n",
       "│ flatten_1 (\u001b[38;5;33mFlatten\u001b[0m)                  │ (\u001b[38;5;45mNone\u001b[0m, \u001b[38;5;34m2048\u001b[0m)                │               \u001b[38;5;34m0\u001b[0m │\n",
       "├──────────────────────────────────────┼─────────────────────────────┼─────────────────┤\n",
       "│ dense_2 (\u001b[38;5;33mDense\u001b[0m)                      │ (\u001b[38;5;45mNone\u001b[0m, \u001b[38;5;34m1024\u001b[0m)                │       \u001b[38;5;34m2,098,176\u001b[0m │\n",
       "├──────────────────────────────────────┼─────────────────────────────┼─────────────────┤\n",
       "│ dropout_3 (\u001b[38;5;33mDropout\u001b[0m)                  │ (\u001b[38;5;45mNone\u001b[0m, \u001b[38;5;34m1024\u001b[0m)                │               \u001b[38;5;34m0\u001b[0m │\n",
       "├──────────────────────────────────────┼─────────────────────────────┼─────────────────┤\n",
       "│ dense_3 (\u001b[38;5;33mDense\u001b[0m)                      │ (\u001b[38;5;45mNone\u001b[0m, \u001b[38;5;34m10\u001b[0m)                  │          \u001b[38;5;34m10,250\u001b[0m │\n",
       "└──────────────────────────────────────┴─────────────────────────────┴─────────────────┘\n"
      ]
     },
     "metadata": {},
     "output_type": "display_data"
    },
    {
     "data": {
      "text/html": [
       "<pre style=\"white-space:pre;overflow-x:auto;line-height:normal;font-family:Menlo,'DejaVu Sans Mono',consolas,'Courier New',monospace\"><span style=\"font-weight: bold\"> Total params: </span><span style=\"color: #00af00; text-decoration-color: #00af00\">2,397,226</span> (9.14 MB)\n",
       "</pre>\n"
      ],
      "text/plain": [
       "\u001b[1m Total params: \u001b[0m\u001b[38;5;34m2,397,226\u001b[0m (9.14 MB)\n"
      ]
     },
     "metadata": {},
     "output_type": "display_data"
    },
    {
     "data": {
      "text/html": [
       "<pre style=\"white-space:pre;overflow-x:auto;line-height:normal;font-family:Menlo,'DejaVu Sans Mono',consolas,'Courier New',monospace\"><span style=\"font-weight: bold\"> Trainable params: </span><span style=\"color: #00af00; text-decoration-color: #00af00\">2,396,330</span> (9.14 MB)\n",
       "</pre>\n"
      ],
      "text/plain": [
       "\u001b[1m Trainable params: \u001b[0m\u001b[38;5;34m2,396,330\u001b[0m (9.14 MB)\n"
      ]
     },
     "metadata": {},
     "output_type": "display_data"
    },
    {
     "data": {
      "text/html": [
       "<pre style=\"white-space:pre;overflow-x:auto;line-height:normal;font-family:Menlo,'DejaVu Sans Mono',consolas,'Courier New',monospace\"><span style=\"font-weight: bold\"> Non-trainable params: </span><span style=\"color: #00af00; text-decoration-color: #00af00\">896</span> (3.50 KB)\n",
       "</pre>\n"
      ],
      "text/plain": [
       "\u001b[1m Non-trainable params: \u001b[0m\u001b[38;5;34m896\u001b[0m (3.50 KB)\n"
      ]
     },
     "metadata": {},
     "output_type": "display_data"
    }
   ],
   "source": [
    "cnn3.summary()"
   ]
  },
  {
   "cell_type": "code",
   "execution_count": 20,
   "id": "e014f5fe-13bd-4777-88b7-3e8bbdcbd137",
   "metadata": {},
   "outputs": [],
   "source": [
    "early_stop = EarlyStopping(monitor='val_loss', patience=2)"
   ]
  },
  {
   "cell_type": "code",
   "execution_count": 21,
   "id": "90efab65-532d-4a30-bc81-88ef62b77083",
   "metadata": {},
   "outputs": [],
   "source": [
    "METRICS = [\n",
    "    'accuracy',\n",
    "    tf.keras.metrics.Precision(name='precision'),\n",
    "    tf.keras.metrics.Recall(name='recall')\n",
    "]\n",
    "\n",
    "cnn3.compile(optimizer='adam',\n",
    "           loss='categorical_crossentropy',\n",
    "           metrics=METRICS)"
   ]
  },
  {
   "cell_type": "code",
   "execution_count": 22,
   "id": "7669475a-729c-410b-b4ca-4ebe028f5654",
   "metadata": {},
   "outputs": [
    {
     "name": "stdout",
     "output_type": "stream",
     "text": [
      "Epoch 1/32\n",
      "\u001b[1m1563/1563\u001b[0m \u001b[32m━━━━━━━━━━━━━━━━━━━━\u001b[0m\u001b[37m\u001b[0m \u001b[1m60s\u001b[0m 37ms/step - accuracy: 0.4094 - loss: 1.8953 - precision: 0.5402 - recall: 0.2459 - val_accuracy: 0.6266 - val_loss: 1.0406 - val_precision: 0.7757 - val_recall: 0.4756\n",
      "Epoch 2/32\n",
      "\u001b[1m1563/1563\u001b[0m \u001b[32m━━━━━━━━━━━━━━━━━━━━\u001b[0m\u001b[37m\u001b[0m \u001b[1m58s\u001b[0m 37ms/step - accuracy: 0.6482 - loss: 1.0040 - precision: 0.7674 - recall: 0.5353 - val_accuracy: 0.7033 - val_loss: 0.8542 - val_precision: 0.8084 - val_recall: 0.6018\n",
      "Epoch 3/32\n",
      "\u001b[1m1563/1563\u001b[0m \u001b[32m━━━━━━━━━━━━━━━━━━━━\u001b[0m\u001b[37m\u001b[0m \u001b[1m57s\u001b[0m 37ms/step - accuracy: 0.7218 - loss: 0.8013 - precision: 0.8114 - recall: 0.6345 - val_accuracy: 0.7298 - val_loss: 0.7790 - val_precision: 0.8209 - val_recall: 0.6481\n",
      "Epoch 4/32\n",
      "\u001b[1m1563/1563\u001b[0m \u001b[32m━━━━━━━━━━━━━━━━━━━━\u001b[0m\u001b[37m\u001b[0m \u001b[1m57s\u001b[0m 37ms/step - accuracy: 0.7564 - loss: 0.7023 - precision: 0.8352 - recall: 0.6840 - val_accuracy: 0.7692 - val_loss: 0.6668 - val_precision: 0.8542 - val_recall: 0.6899\n",
      "Epoch 5/32\n",
      "\u001b[1m1563/1563\u001b[0m \u001b[32m━━━━━━━━━━━━━━━━━━━━\u001b[0m\u001b[37m\u001b[0m \u001b[1m55s\u001b[0m 35ms/step - accuracy: 0.7818 - loss: 0.6276 - precision: 0.8493 - recall: 0.7215 - val_accuracy: 0.7189 - val_loss: 0.8463 - val_precision: 0.7983 - val_recall: 0.6576\n",
      "Epoch 6/32\n",
      "\u001b[1m1563/1563\u001b[0m \u001b[32m━━━━━━━━━━━━━━━━━━━━\u001b[0m\u001b[37m\u001b[0m \u001b[1m55s\u001b[0m 35ms/step - accuracy: 0.8059 - loss: 0.5605 - precision: 0.8636 - recall: 0.7533 - val_accuracy: 0.7931 - val_loss: 0.6104 - val_precision: 0.8514 - val_recall: 0.7472\n",
      "Epoch 7/32\n",
      "\u001b[1m1563/1563\u001b[0m \u001b[32m━━━━━━━━━━━━━━━━━━━━\u001b[0m\u001b[37m\u001b[0m \u001b[1m56s\u001b[0m 36ms/step - accuracy: 0.8219 - loss: 0.5131 - precision: 0.8750 - recall: 0.7762 - val_accuracy: 0.8038 - val_loss: 0.5991 - val_precision: 0.8538 - val_recall: 0.7628\n",
      "Epoch 8/32\n",
      "\u001b[1m1563/1563\u001b[0m \u001b[32m━━━━━━━━━━━━━━━━━━━━\u001b[0m\u001b[37m\u001b[0m \u001b[1m56s\u001b[0m 36ms/step - accuracy: 0.8429 - loss: 0.4479 - precision: 0.8872 - recall: 0.8040 - val_accuracy: 0.8021 - val_loss: 0.6156 - val_precision: 0.8514 - val_recall: 0.7559\n",
      "Epoch 9/32\n",
      "\u001b[1m1563/1563\u001b[0m \u001b[32m━━━━━━━━━━━━━━━━━━━━\u001b[0m\u001b[37m\u001b[0m \u001b[1m59s\u001b[0m 38ms/step - accuracy: 0.8550 - loss: 0.4148 - precision: 0.8931 - recall: 0.8191 - val_accuracy: 0.8054 - val_loss: 0.5809 - val_precision: 0.8550 - val_recall: 0.7670\n",
      "Epoch 10/32\n",
      "\u001b[1m1563/1563\u001b[0m \u001b[32m━━━━━━━━━━━━━━━━━━━━\u001b[0m\u001b[37m\u001b[0m \u001b[1m57s\u001b[0m 36ms/step - accuracy: 0.8672 - loss: 0.3796 - precision: 0.9008 - recall: 0.8363 - val_accuracy: 0.8216 - val_loss: 0.5691 - val_precision: 0.8579 - val_recall: 0.7950\n",
      "Epoch 11/32\n",
      "\u001b[1m1563/1563\u001b[0m \u001b[32m━━━━━━━━━━━━━━━━━━━━\u001b[0m\u001b[37m\u001b[0m \u001b[1m57s\u001b[0m 36ms/step - accuracy: 0.8780 - loss: 0.3506 - precision: 0.9089 - recall: 0.8511 - val_accuracy: 0.8188 - val_loss: 0.5759 - val_precision: 0.8587 - val_recall: 0.7896\n",
      "Epoch 12/32\n",
      "\u001b[1m1563/1563\u001b[0m \u001b[32m━━━━━━━━━━━━━━━━━━━━\u001b[0m\u001b[37m\u001b[0m \u001b[1m57s\u001b[0m 37ms/step - accuracy: 0.8907 - loss: 0.3149 - precision: 0.9166 - recall: 0.8677 - val_accuracy: 0.8191 - val_loss: 0.6184 - val_precision: 0.8530 - val_recall: 0.7952\n",
      "Epoch 13/32\n",
      "\u001b[1m1563/1563\u001b[0m \u001b[32m━━━━━━━━━━━━━━━━━━━━\u001b[0m\u001b[37m\u001b[0m \u001b[1m56s\u001b[0m 36ms/step - accuracy: 0.9008 - loss: 0.2864 - precision: 0.9232 - recall: 0.8799 - val_accuracy: 0.8327 - val_loss: 0.5463 - val_precision: 0.8651 - val_recall: 0.8109\n",
      "Epoch 14/32\n",
      "\u001b[1m1563/1563\u001b[0m \u001b[32m━━━━━━━━━━━━━━━━━━━━\u001b[0m\u001b[37m\u001b[0m \u001b[1m56s\u001b[0m 36ms/step - accuracy: 0.9116 - loss: 0.2636 - precision: 0.9303 - recall: 0.8945 - val_accuracy: 0.8411 - val_loss: 0.5194 - val_precision: 0.8701 - val_recall: 0.8185\n",
      "Epoch 15/32\n",
      "\u001b[1m1563/1563\u001b[0m \u001b[32m━━━━━━━━━━━━━━━━━━━━\u001b[0m\u001b[37m\u001b[0m \u001b[1m56s\u001b[0m 36ms/step - accuracy: 0.9130 - loss: 0.2481 - precision: 0.9311 - recall: 0.8972 - val_accuracy: 0.8445 - val_loss: 0.5148 - val_precision: 0.8728 - val_recall: 0.8232\n",
      "Epoch 16/32\n",
      "\u001b[1m1563/1563\u001b[0m \u001b[32m━━━━━━━━━━━━━━━━━━━━\u001b[0m\u001b[37m\u001b[0m \u001b[1m58s\u001b[0m 37ms/step - accuracy: 0.9225 - loss: 0.2211 - precision: 0.9386 - recall: 0.9099 - val_accuracy: 0.8387 - val_loss: 0.5803 - val_precision: 0.8621 - val_recall: 0.8226\n",
      "Epoch 17/32\n",
      "\u001b[1m1563/1563\u001b[0m \u001b[32m━━━━━━━━━━━━━━━━━━━━\u001b[0m\u001b[37m\u001b[0m \u001b[1m57s\u001b[0m 36ms/step - accuracy: 0.9272 - loss: 0.2092 - precision: 0.9415 - recall: 0.9151 - val_accuracy: 0.8409 - val_loss: 0.5482 - val_precision: 0.8658 - val_recall: 0.8232\n",
      "Epoch 18/32\n",
      "\u001b[1m1563/1563\u001b[0m \u001b[32m━━━━━━━━━━━━━━━━━━━━\u001b[0m\u001b[37m\u001b[0m \u001b[1m56s\u001b[0m 36ms/step - accuracy: 0.9335 - loss: 0.1938 - precision: 0.9456 - recall: 0.9230 - val_accuracy: 0.8392 - val_loss: 0.5542 - val_precision: 0.8617 - val_recall: 0.8234\n",
      "Epoch 19/32\n",
      "\u001b[1m1563/1563\u001b[0m \u001b[32m━━━━━━━━━━━━━━━━━━━━\u001b[0m\u001b[37m\u001b[0m \u001b[1m56s\u001b[0m 36ms/step - accuracy: 0.9347 - loss: 0.1903 - precision: 0.9469 - recall: 0.9241 - val_accuracy: 0.8181 - val_loss: 0.6384 - val_precision: 0.8482 - val_recall: 0.7996\n",
      "Epoch 20/32\n",
      "\u001b[1m1563/1563\u001b[0m \u001b[32m━━━━━━━━━━━━━━━━━━━━\u001b[0m\u001b[37m\u001b[0m \u001b[1m57s\u001b[0m 36ms/step - accuracy: 0.9403 - loss: 0.1796 - precision: 0.9504 - recall: 0.9307 - val_accuracy: 0.8023 - val_loss: 0.7230 - val_precision: 0.8316 - val_recall: 0.7825\n",
      "Epoch 21/32\n",
      "\u001b[1m1563/1563\u001b[0m \u001b[32m━━━━━━━━━━━━━━━━━━━━\u001b[0m\u001b[37m\u001b[0m \u001b[1m56s\u001b[0m 36ms/step - accuracy: 0.9399 - loss: 0.1737 - precision: 0.9492 - recall: 0.9311 - val_accuracy: 0.8470 - val_loss: 0.5666 - val_precision: 0.8661 - val_recall: 0.8337\n",
      "Epoch 22/32\n",
      "\u001b[1m1563/1563\u001b[0m \u001b[32m━━━━━━━━━━━━━━━━━━━━\u001b[0m\u001b[37m\u001b[0m \u001b[1m57s\u001b[0m 36ms/step - accuracy: 0.9452 - loss: 0.1608 - precision: 0.9533 - recall: 0.9367 - val_accuracy: 0.8377 - val_loss: 0.6357 - val_precision: 0.8557 - val_recall: 0.8236\n",
      "Epoch 23/32\n",
      "\u001b[1m1563/1563\u001b[0m \u001b[32m━━━━━━━━━━━━━━━━━━━━\u001b[0m\u001b[37m\u001b[0m \u001b[1m58s\u001b[0m 37ms/step - accuracy: 0.9474 - loss: 0.1541 - precision: 0.9556 - recall: 0.9401 - val_accuracy: 0.8381 - val_loss: 0.5989 - val_precision: 0.8557 - val_recall: 0.8285\n",
      "Epoch 24/32\n",
      "\u001b[1m1563/1563\u001b[0m \u001b[32m━━━━━━━━━━━━━━━━━━━━\u001b[0m\u001b[37m\u001b[0m \u001b[1m57s\u001b[0m 37ms/step - accuracy: 0.9505 - loss: 0.1494 - precision: 0.9582 - recall: 0.9439 - val_accuracy: 0.8417 - val_loss: 0.5689 - val_precision: 0.8650 - val_recall: 0.8269\n",
      "Epoch 25/32\n",
      "\u001b[1m1563/1563\u001b[0m \u001b[32m━━━━━━━━━━━━━━━━━━━━\u001b[0m\u001b[37m\u001b[0m \u001b[1m57s\u001b[0m 37ms/step - accuracy: 0.9497 - loss: 0.1441 - precision: 0.9573 - recall: 0.9435 - val_accuracy: 0.8383 - val_loss: 0.6026 - val_precision: 0.8594 - val_recall: 0.8265\n",
      "Epoch 26/32\n",
      "\u001b[1m1563/1563\u001b[0m \u001b[32m━━━━━━━━━━━━━━━━━━━━\u001b[0m\u001b[37m\u001b[0m \u001b[1m58s\u001b[0m 37ms/step - accuracy: 0.9536 - loss: 0.1351 - precision: 0.9601 - recall: 0.9481 - val_accuracy: 0.8372 - val_loss: 0.6036 - val_precision: 0.8577 - val_recall: 0.8238\n",
      "Epoch 27/32\n",
      "\u001b[1m1563/1563\u001b[0m \u001b[32m━━━━━━━━━━━━━━━━━━━━\u001b[0m\u001b[37m\u001b[0m \u001b[1m59s\u001b[0m 37ms/step - accuracy: 0.9536 - loss: 0.1358 - precision: 0.9597 - recall: 0.9482 - val_accuracy: 0.8490 - val_loss: 0.6139 - val_precision: 0.8643 - val_recall: 0.8372\n",
      "Epoch 28/32\n",
      "\u001b[1m1563/1563\u001b[0m \u001b[32m━━━━━━━━━━━━━━━━━━━━\u001b[0m\u001b[37m\u001b[0m \u001b[1m58s\u001b[0m 37ms/step - accuracy: 0.9588 - loss: 0.1246 - precision: 0.9649 - recall: 0.9539 - val_accuracy: 0.8392 - val_loss: 0.6162 - val_precision: 0.8569 - val_recall: 0.8276\n",
      "Epoch 29/32\n",
      "\u001b[1m1563/1563\u001b[0m \u001b[32m━━━━━━━━━━━━━━━━━━━━\u001b[0m\u001b[37m\u001b[0m \u001b[1m58s\u001b[0m 37ms/step - accuracy: 0.9591 - loss: 0.1201 - precision: 0.9648 - recall: 0.9546 - val_accuracy: 0.8452 - val_loss: 0.6063 - val_precision: 0.8626 - val_recall: 0.8359\n",
      "Epoch 30/32\n",
      "\u001b[1m1563/1563\u001b[0m \u001b[32m━━━━━━━━━━━━━━━━━━━━\u001b[0m\u001b[37m\u001b[0m \u001b[1m59s\u001b[0m 38ms/step - accuracy: 0.9606 - loss: 0.1181 - precision: 0.9656 - recall: 0.9562 - val_accuracy: 0.8395 - val_loss: 0.6457 - val_precision: 0.8543 - val_recall: 0.8296\n",
      "Epoch 31/32\n",
      "\u001b[1m1563/1563\u001b[0m \u001b[32m━━━━━━━━━━━━━━━━━━━━\u001b[0m\u001b[37m\u001b[0m \u001b[1m58s\u001b[0m 37ms/step - accuracy: 0.9619 - loss: 0.1113 - precision: 0.9666 - recall: 0.9575 - val_accuracy: 0.8559 - val_loss: 0.5873 - val_precision: 0.8704 - val_recall: 0.8456\n",
      "Epoch 32/32\n",
      "\u001b[1m1563/1563\u001b[0m \u001b[32m━━━━━━━━━━━━━━━━━━━━\u001b[0m\u001b[37m\u001b[0m \u001b[1m58s\u001b[0m 37ms/step - accuracy: 0.9613 - loss: 0.1133 - precision: 0.9659 - recall: 0.9569 - val_accuracy: 0.8477 - val_loss: 0.6078 - val_precision: 0.8659 - val_recall: 0.8356\n"
     ]
    }
   ],
   "source": [
    "r = cnn3.fit(X_train,y_cat_train,epochs=32,validation_data=(X_test,y_cat_test))"
   ]
  },
  {
   "cell_type": "code",
   "execution_count": 27,
   "id": "eedf4ac4-3936-4ed9-8c3e-fb2249b50860",
   "metadata": {},
   "outputs": [
    {
     "data": {
      "text/plain": [
       "<matplotlib.legend.Legend at 0x255c8ca1f70>"
      ]
     },
     "execution_count": 27,
     "metadata": {},
     "output_type": "execute_result"
    },
    {
     "data": {
      "image/png": "[encoded data removed]",
      "text/plain": [
       "<Figure size 1200x1600 with 4 Axes>"
      ]
     },
     "metadata": {},
     "output_type": "display_data"
    }
   ],
   "source": [
    "plt.figure(figsize=(12, 16))\n",
    "\n",
    "plt.subplot(4, 2, 1)\n",
    "plt.plot(r.history['loss'], label='Loss')\n",
    "plt.plot(r.history['val_loss'], label='val_Loss')\n",
    "plt.title('Loss Function Evolution')\n",
    "plt.legend()\n",
    "\n",
    "plt.subplot(4, 2, 2)\n",
    "plt.plot(r.history['accuracy'], label='accuracy')\n",
    "plt.plot(r.history['val_accuracy'], label='val_accuracy')\n",
    "plt.title('Accuracy Function Evolution')\n",
    "plt.legend()\n",
    "\n",
    "plt.subplot(4, 2, 3)\n",
    "plt.plot(r.history['precision'], label='precision')\n",
    "plt.plot(r.history['val_precision'], label='val_precision')\n",
    "plt.title('Precision Function Evolution')\n",
    "plt.legend()\n",
    "\n",
    "plt.subplot(4, 2, 4)\n",
    "plt.plot(r.history['recall'], label='recall')\n",
    "plt.plot(r.history['val_recall'], label='val_recall')\n",
    "plt.title('Recall Function Evolution')\n",
    "plt.legend()"
   ]
  },
  {
   "cell_type": "code",
   "execution_count": 28,
   "id": "b7d33ebd-b2ef-4716-af84-4ccf0b959719",
   "metadata": {},
   "outputs": [
    {
     "data": {
      "text/plain": [
       "{'accuracy': [0.5023800134658813,\n",
       "  0.6643999814987183,\n",
       "  0.7238600254058838,\n",
       "  0.758840024471283,\n",
       "  0.7827000021934509,\n",
       "  0.8046600222587585,\n",
       "  0.8212199807167053,\n",
       "  0.839739978313446,\n",
       "  0.8514999747276306,\n",
       "  0.8613399863243103,\n",
       "  0.8751599788665771,\n",
       "  0.8869600296020508,\n",
       "  0.8956599831581116,\n",
       "  0.9042800068855286,\n",
       "  0.90802001953125,\n",
       "  0.91566002368927,\n",
       "  0.9223999977111816,\n",
       "  0.9276999831199646,\n",
       "  0.9295399785041809,\n",
       "  0.9371399879455566,\n",
       "  0.9380599856376648,\n",
       "  0.9430199861526489,\n",
       "  0.9438400268554688,\n",
       "  0.9473000168800354,\n",
       "  0.9492800235748291,\n",
       "  0.9497399926185608,\n",
       "  0.951740026473999,\n",
       "  0.9554600119590759,\n",
       "  0.9571599960327148,\n",
       "  0.9556400179862976,\n",
       "  0.9597799777984619,\n",
       "  0.9595800042152405],\n",
       " 'loss': [1.4405288696289062,\n",
       "  0.9624451398849487,\n",
       "  0.8005240559577942,\n",
       "  0.7028716206550598,\n",
       "  0.6324487924575806,\n",
       "  0.5693227052688599,\n",
       "  0.5184300541877747,\n",
       "  0.4658530056476593,\n",
       "  0.42660608887672424,\n",
       "  0.3973510265350342,\n",
       "  0.3626400828361511,\n",
       "  0.3261793553829193,\n",
       "  0.3013767898082733,\n",
       "  0.27995389699935913,\n",
       "  0.266095906496048,\n",
       "  0.2421252727508545,\n",
       "  0.22405779361724854,\n",
       "  0.20914170145988464,\n",
       "  0.20265312492847443,\n",
       "  0.18790340423583984,\n",
       "  0.17949356138706207,\n",
       "  0.16887137293815613,\n",
       "  0.16097702085971832,\n",
       "  0.15866932272911072,\n",
       "  0.1476740688085556,\n",
       "  0.14584994316101074,\n",
       "  0.14228814840316772,\n",
       "  0.133544459939003,\n",
       "  0.12618474662303925,\n",
       "  0.13063932955265045,\n",
       "  0.11946050077676773,\n",
       "  0.11954105645418167],\n",
       " 'precision': [0.6593596339225769,\n",
       "  0.7768321633338928,\n",
       "  0.8128651976585388,\n",
       "  0.8358725905418396,\n",
       "  0.849608302116394,\n",
       "  0.8624263405799866,\n",
       "  0.8734217286109924,\n",
       "  0.8836032748222351,\n",
       "  0.8916099071502686,\n",
       "  0.8980245590209961,\n",
       "  0.9058501124382019,\n",
       "  0.9138044118881226,\n",
       "  0.9191428422927856,\n",
       "  0.9252453446388245,\n",
       "  0.9267541766166687,\n",
       "  0.9327016472816467,\n",
       "  0.9371392130851746,\n",
       "  0.9412127137184143,\n",
       "  0.9422572255134583,\n",
       "  0.9475361704826355,\n",
       "  0.9477614760398865,\n",
       "  0.9517605304718018,\n",
       "  0.9521312117576599,\n",
       "  0.9552517533302307,\n",
       "  0.9563771486282349,\n",
       "  0.9569997191429138,\n",
       "  0.9584439992904663,\n",
       "  0.9616957306861877,\n",
       "  0.962873101234436,\n",
       "  0.9615610241889954,\n",
       "  0.9647156000137329,\n",
       "  0.9645987153053284],\n",
       " 'recall': [0.3434999883174896,\n",
       "  0.5586199760437012,\n",
       "  0.6399199962615967,\n",
       "  0.6901800036430359,\n",
       "  0.722320020198822,\n",
       "  0.7522600293159485,\n",
       "  0.7761399745941162,\n",
       "  0.7998200058937073,\n",
       "  0.8169999718666077,\n",
       "  0.830079972743988,\n",
       "  0.8466799855232239,\n",
       "  0.8636000156402588,\n",
       "  0.8741599917411804,\n",
       "  0.8862000107765198,\n",
       "  0.890999972820282,\n",
       "  0.9016799926757812,\n",
       "  0.9090999960899353,\n",
       "  0.9161199927330017,\n",
       "  0.9190400242805481,\n",
       "  0.9276000261306763,\n",
       "  0.9289199709892273,\n",
       "  0.9336199760437012,\n",
       "  0.9368399977684021,\n",
       "  0.940559983253479,\n",
       "  0.9431599974632263,\n",
       "  0.9436399936676025,\n",
       "  0.9456200003623962,\n",
       "  0.9500399827957153,\n",
       "  0.9523199796676636,\n",
       "  0.9510800242424011,\n",
       "  0.955299973487854,\n",
       "  0.955299973487854],\n",
       " 'val_accuracy': [0.6266000270843506,\n",
       "  0.7032999992370605,\n",
       "  0.7297999858856201,\n",
       "  0.7692000269889832,\n",
       "  0.7189000248908997,\n",
       "  0.7930999994277954,\n",
       "  0.8037999868392944,\n",
       "  0.8021000027656555,\n",
       "  0.805400013923645,\n",
       "  0.8216000199317932,\n",
       "  0.8187999725341797,\n",
       "  0.819100022315979,\n",
       "  0.8327000141143799,\n",
       "  0.8410999774932861,\n",
       "  0.8445000052452087,\n",
       "  0.838699996471405,\n",
       "  0.8409000039100647,\n",
       "  0.8392000198364258,\n",
       "  0.8180999755859375,\n",
       "  0.802299976348877,\n",
       "  0.847000002861023,\n",
       "  0.8377000093460083,\n",
       "  0.838100016117096,\n",
       "  0.84170001745224,\n",
       "  0.8382999897003174,\n",
       "  0.8371999859809875,\n",
       "  0.8489999771118164,\n",
       "  0.8392000198364258,\n",
       "  0.8452000021934509,\n",
       "  0.8395000100135803,\n",
       "  0.85589998960495,\n",
       "  0.8476999998092651],\n",
       " 'val_loss': [1.0405590534210205,\n",
       "  0.8542067408561707,\n",
       "  0.7789674401283264,\n",
       "  0.6667839884757996,\n",
       "  0.8462605476379395,\n",
       "  0.6103900671005249,\n",
       "  0.5991042256355286,\n",
       "  0.6155509948730469,\n",
       "  0.5808972120285034,\n",
       "  0.5690951943397522,\n",
       "  0.5759196877479553,\n",
       "  0.6183682680130005,\n",
       "  0.5462694764137268,\n",
       "  0.5194270610809326,\n",
       "  0.5148378610610962,\n",
       "  0.5802900791168213,\n",
       "  0.5481884479522705,\n",
       "  0.554221510887146,\n",
       "  0.6384139657020569,\n",
       "  0.722995936870575,\n",
       "  0.5666424036026001,\n",
       "  0.6356508731842041,\n",
       "  0.5988577008247375,\n",
       "  0.5688669681549072,\n",
       "  0.6026206612586975,\n",
       "  0.6035979390144348,\n",
       "  0.6139394044876099,\n",
       "  0.6162083148956299,\n",
       "  0.6062541007995605,\n",
       "  0.6457388401031494,\n",
       "  0.5873444080352783,\n",
       "  0.607846200466156],\n",
       " 'val_precision': [0.7757298946380615,\n",
       "  0.8084363341331482,\n",
       "  0.8208993077278137,\n",
       "  0.8541537523269653,\n",
       "  0.7983489036560059,\n",
       "  0.8514129519462585,\n",
       "  0.8538168668746948,\n",
       "  0.8514304757118225,\n",
       "  0.8549771308898926,\n",
       "  0.8578827977180481,\n",
       "  0.8587275743484497,\n",
       "  0.8530358076095581,\n",
       "  0.8650522828102112,\n",
       "  0.870096743106842,\n",
       "  0.8727735280990601,\n",
       "  0.8620834350585938,\n",
       "  0.865797221660614,\n",
       "  0.8616576194763184,\n",
       "  0.8482019901275635,\n",
       "  0.8315621614456177,\n",
       "  0.8660918474197388,\n",
       "  0.8556883335113525,\n",
       "  0.8557116389274597,\n",
       "  0.8649581670761108,\n",
       "  0.859415590763092,\n",
       "  0.8576782941818237,\n",
       "  0.8643403053283691,\n",
       "  0.8569061756134033,\n",
       "  0.8626418709754944,\n",
       "  0.8542889356613159,\n",
       "  0.8704065680503845,\n",
       "  0.8659067153930664],\n",
       " 'val_recall': [0.475600004196167,\n",
       "  0.6018000245094299,\n",
       "  0.6481000185012817,\n",
       "  0.6898999810218811,\n",
       "  0.6575999855995178,\n",
       "  0.7472000122070312,\n",
       "  0.7627999782562256,\n",
       "  0.7559000253677368,\n",
       "  0.7670000195503235,\n",
       "  0.7950000166893005,\n",
       "  0.7896000146865845,\n",
       "  0.795199990272522,\n",
       "  0.8108999729156494,\n",
       "  0.8184999823570251,\n",
       "  0.823199987411499,\n",
       "  0.8226000070571899,\n",
       "  0.823199987411499,\n",
       "  0.8234000205993652,\n",
       "  0.7996000051498413,\n",
       "  0.7825000286102295,\n",
       "  0.8337000012397766,\n",
       "  0.8235999941825867,\n",
       "  0.828499972820282,\n",
       "  0.8269000053405762,\n",
       "  0.8264999985694885,\n",
       "  0.8238000273704529,\n",
       "  0.8371999859809875,\n",
       "  0.8276000022888184,\n",
       "  0.8359000086784363,\n",
       "  0.8295999765396118,\n",
       "  0.8456000089645386,\n",
       "  0.8356000185012817]}"
      ]
     },
     "execution_count": 28,
     "metadata": {},
     "output_type": "execute_result"
    }
   ],
   "source": [
    "r.history"
   ]
  },
  {
   "cell_type": "code",
   "execution_count": 39,
   "id": "6fd8a5c9-a317-4cf6-884b-5e9806a8be5a",
   "metadata": {},
   "outputs": [
    {
     "name": "stdout",
     "output_type": "stream",
     "text": [
      "\u001b[1m313/313\u001b[0m \u001b[32m━━━━━━━━━━━━━━━━━━━━\u001b[0m\u001b[37m\u001b[0m \u001b[1m2s\u001b[0m 7ms/step - accuracy: 0.8484 - loss: 0.6099 - precision: 0.8659 - recall: 0.8338\n",
      "Test Accuracy : 84.77%\n",
      "\u001b[1m313/313\u001b[0m \u001b[32m━━━━━━━━━━━━━━━━━━━━\u001b[0m\u001b[37m\u001b[0m \u001b[1m2s\u001b[0m 7ms/step\n"
     ]
    },
    {
     "data": {
      "image/png": "[encoded data removed]",
      "text/plain": [
       "<Figure size 1000x1000 with 2 Axes>"
      ]
     },
     "metadata": {},
     "output_type": "display_data"
    }
   ],
   "source": [
    "evaluation = cnn3.evaluate(X_test, y_cat_test)\n",
    "print(f'Test Accuracy : {evaluation[1] * 100:.2f}%')\n",
    "\n",
    "y_pred = cnn3.predict(X_test)\n",
    "y_pred = np.argmax(y_pred, axis=1)\n",
    "cm = confusion_matrix(y_test, y_pred)\n",
    "\n",
    "\n",
    "disp = ConfusionMatrixDisplay(confusion_matrix=cm,\n",
    "                              display_labels=classes)\n",
    "\n",
    "\n",
    "# NOTE: Fill all variables here with default values of the plot_confusion_matrix\n",
    "fig, ax = plt.subplots(figsize=(10, 10))\n",
    "disp = disp.plot(xticks_rotation='vertical', ax=ax,cmap='summer')\n",
    "\n",
    "plt.show()"
   ]
  },
  {
   "cell_type": "code",
   "execution_count": 45,
   "id": "b1a88949-2b0e-4001-9984-23874f7be683",
   "metadata": {},
   "outputs": [
    {
     "name": "stdout",
     "output_type": "stream",
     "text": [
      "['0 : uçak', '1 : otomobil', '2 : kuş', '3 : kedi', '4 : geyik', '5 : köpek', '6 : kurbağa', '7 : at', '8 : gemi', '9 : kamyon']\n",
      "              precision    recall  f1-score   support\n",
      "\n",
      "           0       0.87      0.84      0.85      1000\n",
      "           1       0.95      0.91      0.93      1000\n",
      "           2       0.85      0.75      0.80      1000\n",
      "           3       0.74      0.68      0.71      1000\n",
      "           4       0.84      0.84      0.84      1000\n",
      "           5       0.78      0.77      0.77      1000\n",
      "           6       0.85      0.90      0.88      1000\n",
      "           7       0.84      0.93      0.88      1000\n",
      "           8       0.89      0.92      0.91      1000\n",
      "           9       0.86      0.94      0.90      1000\n",
      "\n",
      "    accuracy                           0.85     10000\n",
      "   macro avg       0.85      0.85      0.85     10000\n",
      "weighted avg       0.85      0.85      0.85     10000\n",
      "\n"
     ]
    }
   ],
   "source": [
    "classes_with_index = [str(i)+ \" : \" + classes[i] for i in range(10)]\n",
    "print(classes_with_index)\n",
    "print(classification_report(y_test, y_pred))"
   ]
  },
  {
   "cell_type": "code",
   "execution_count": null,
   "id": "e0469c8f-4db8-400c-8d25-03eacbe3b369",
   "metadata": {},
   "outputs": [],
   "source": []
  }
 ],
 "metadata": {
  "kernelspec": {
   "display_name": "Python 3 (ipykernel)",
   "language": "python",
   "name": "python3"
  },
  "language_info": {
   "codemirror_mode": {
    "name": "ipython",
    "version": 3
   },
   "file_extension": ".py",
   "mimetype": "text/x-python",
   "name": "python",
   "nbconvert_exporter": "python",
   "pygments_lexer": "ipython3",
   "version": "3.12.2"
  }
 },
 "nbformat": 4,
 "nbformat_minor": 5
}
